{
 "cells": [
  {
   "cell_type": "code",
   "execution_count": 1,
   "id": "256b885f",
   "metadata": {},
   "outputs": [
    {
     "name": "stderr",
     "output_type": "stream",
     "text": [
      "/srv/share/gstoica3/miniconda3/envs/open-mmlab/lib/python3.7/site-packages/tqdm/auto.py:22: TqdmWarning: IProgress not found. Please update jupyter and ipywidgets. See https://ipywidgets.readthedocs.io/en/stable/user_install.html\n",
      "  from .autonotebook import tqdm as notebook_tqdm\n"
     ]
    }
   ],
   "source": [
    "import os\n",
    "import sys\n",
    "\n",
    "from tqdm import tqdm\n",
    "import numpy as np\n",
    "import matplotlib.pyplot as plt\n",
    "import scipy.optimize\n",
    "\n",
    "import torch\n",
    "from torch import nn\n",
    "from torch.cuda.amp import GradScaler, autocast\n",
    "from torch.nn import CrossEntropyLoss\n",
    "from torch.optim import SGD, Adam, lr_scheduler\n",
    "import torchvision\n",
    "import torchvision.transforms as T\n",
    "\n",
    "from sys import platform\n",
    "\n",
    "DEVICE = 'mps' if platform == 'darwin' else 'cuda'"
   ]
  },
  {
   "cell_type": "code",
   "execution_count": 35,
   "id": "57d7eb39",
   "metadata": {},
   "outputs": [],
   "source": [
    "import pdb"
   ]
  },
  {
   "cell_type": "code",
   "execution_count": 2,
   "id": "b4a983d0",
   "metadata": {},
   "outputs": [],
   "source": [
    "def save_model(model, i):\n",
    "    sd = model.state_dict()\n",
    "    path = os.path.join(\n",
    "        # '/Users/georgestoica/Downloads',\n",
    "        '/srv/share/gstoica3/checkpoints/REPAIR/',\n",
    "        '%s.pth.tar' % i\n",
    "    )\n",
    "    torch.save(model.state_dict(), path)\n",
    "\n",
    "def load_model(model, i):\n",
    "    path = os.path.join(\n",
    "        # '/Users/georgestoica/Downloads',\n",
    "        '/srv/share/gstoica3/checkpoints/REPAIR/',\n",
    "        '%s.pth.tar' % i\n",
    "    )\n",
    "    sd = torch.load(path, map_location=torch.device(DEVICE))\n",
    "    model.load_state_dict(sd)"
   ]
  },
  {
   "cell_type": "code",
   "execution_count": 3,
   "id": "b1028485",
   "metadata": {},
   "outputs": [
    {
     "name": "stdout",
     "output_type": "stream",
     "text": [
      "Files already downloaded and verified\n",
      "Files already downloaded and verified\n"
     ]
    }
   ],
   "source": [
    "CIFAR_MEAN = [125.307, 122.961, 113.8575]\n",
    "CIFAR_STD = [51.5865, 50.847, 51.255]\n",
    "normalize = T.Normalize(np.array(CIFAR_MEAN)/255, np.array(CIFAR_STD)/255)\n",
    "denormalize = T.Normalize(-np.array(CIFAR_MEAN)/np.array(CIFAR_STD), 255/np.array(CIFAR_STD))\n",
    "\n",
    "train_transform = T.Compose([\n",
    "    T.RandomHorizontalFlip(),\n",
    "    T.RandomCrop(32, padding=4),\n",
    "    T.ToTensor(),\n",
    "    normalize,\n",
    "])\n",
    "test_transform = T.Compose([\n",
    "    T.ToTensor(),\n",
    "    normalize,\n",
    "])\n",
    "train_dset = torchvision.datasets.CIFAR10(root='/tmp', train=True,\n",
    "                                        download=True, transform=train_transform)\n",
    "test_dset = torchvision.datasets.CIFAR10(root='/tmp', train=False,\n",
    "                                        download=True, transform=test_transform)\n",
    "\n",
    "train_aug_loader = torch.utils.data.DataLoader(train_dset, batch_size=500, shuffle=True, num_workers=8)\n",
    "test_loader = torch.utils.data.DataLoader(test_dset, batch_size=500, shuffle=False, num_workers=8)"
   ]
  },
  {
   "cell_type": "code",
   "execution_count": 4,
   "id": "6155682b",
   "metadata": {},
   "outputs": [],
   "source": [
    "# evaluates accuracy\n",
    "def evaluate(model, loader=test_loader):\n",
    "    model.eval()\n",
    "    correct = 0\n",
    "    with torch.no_grad(), autocast():\n",
    "        for inputs, labels in loader:\n",
    "            outputs = model(inputs.to(DEVICE))\n",
    "            pred = outputs.argmax(dim=1)\n",
    "            correct += (labels.to(DEVICE) == pred).sum().item()\n",
    "    return correct\n",
    "\n",
    "# evaluates loss\n",
    "def evaluate1(model, loader=test_loader):\n",
    "    model.eval()\n",
    "    losses = []\n",
    "    with torch.no_grad(), autocast():\n",
    "        for inputs, labels in loader:\n",
    "            outputs = model(inputs.to(DEVICE))\n",
    "            loss = F.cross_entropy(outputs, labels.to(DEVICE))\n",
    "            losses.append(loss.item())\n",
    "    return np.array(losses).mean()"
   ]
  },
  {
   "cell_type": "code",
   "execution_count": 5,
   "id": "4753f9c4",
   "metadata": {},
   "outputs": [],
   "source": [
    "import torch.nn as nn\n",
    "import torch.nn.functional as F\n",
    "import torch.nn.init as init\n",
    "\n",
    "def _weights_init(m):\n",
    "    classname = m.__class__.__name__\n",
    "    if isinstance(m, nn.Linear) or isinstance(m, nn.Conv2d):\n",
    "        init.kaiming_normal_(m.weight)\n",
    "\n",
    "class LambdaLayer(nn.Module):\n",
    "    def __init__(self, lambd):\n",
    "        super(LambdaLayer, self).__init__()\n",
    "        self.lambd = lambd\n",
    "\n",
    "    def forward(self, x):\n",
    "        return self.lambd(x)\n",
    "\n",
    "\n",
    "class BasicBlock(nn.Module):\n",
    "    expansion = 1\n",
    "\n",
    "    def __init__(self, in_planes, planes, stride=1):\n",
    "        super(BasicBlock, self).__init__()\n",
    "        self.conv1 = nn.Conv2d(in_planes, planes, kernel_size=3, stride=stride, padding=1, bias=False)\n",
    "        self.bn1 = nn.BatchNorm2d(planes)\n",
    "        self.conv2 = nn.Conv2d(planes, planes, kernel_size=3, stride=1, padding=1, bias=False)\n",
    "        self.bn2 = nn.BatchNorm2d(planes)\n",
    "\n",
    "        self.shortcut = nn.Sequential()\n",
    "        if stride != 1 or in_planes != planes:\n",
    "#             self.shortcut = LambdaLayer(lambda x:\n",
    "#                                         F.pad(x[:, :, ::2, ::2], (0, 0, 0, 0, planes//4, planes//4), \"constant\", 0))\n",
    "            self.shortcut = nn.Sequential(\n",
    "                nn.Conv2d(in_planes, planes, kernel_size=3, stride=stride, padding=1, bias=False),\n",
    "                nn.BatchNorm2d(planes)\n",
    "            )\n",
    "\n",
    "\n",
    "    def forward(self, x):\n",
    "        out = F.relu(self.bn1(self.conv1(x)))\n",
    "        out = self.bn2(self.conv2(out))\n",
    "        out += self.shortcut(x)\n",
    "        out = F.relu(out)\n",
    "        return out\n",
    "\n",
    "\n",
    "class ResNet(nn.Module):\n",
    "    def __init__(self, block, num_blocks, w=1, num_classes=10):\n",
    "        super(ResNet, self).__init__()\n",
    "        self.in_planes = w*16\n",
    "\n",
    "        self.conv1 = nn.Conv2d(3, w*16, kernel_size=3, stride=1, padding=1, bias=False)\n",
    "        self.bn1 = nn.BatchNorm2d(w*16)\n",
    "        self.layer1 = self._make_layer(block, w*16, num_blocks[0], stride=1)\n",
    "        self.layer2 = self._make_layer(block, w*32, num_blocks[1], stride=2)\n",
    "        self.layer3 = self._make_layer(block, w*64, num_blocks[2], stride=2)\n",
    "        self.linear = nn.Linear(w*64, num_classes)\n",
    "\n",
    "        self.apply(_weights_init)\n",
    "\n",
    "    def _make_layer(self, block, planes, num_blocks, stride):\n",
    "        strides = [stride] + [1]*(num_blocks-1)\n",
    "        layers = []\n",
    "        for stride in strides:\n",
    "            layers.append(block(self.in_planes, planes, stride))\n",
    "            self.in_planes = planes * block.expansion\n",
    "\n",
    "        return nn.Sequential(*layers)\n",
    "\n",
    "    def forward(self, x):\n",
    "        out = F.relu(self.bn1(self.conv1(x)))\n",
    "        out = self.layer1(out)\n",
    "        out = self.layer2(out)\n",
    "        out = self.layer3(out)\n",
    "        out = F.avg_pool2d(out, out.size()[3])\n",
    "        out = out.view(out.size(0), -1)\n",
    "        out = self.linear(out)\n",
    "        return out\n",
    "\n",
    "\n",
    "def resnet20(w=1):\n",
    "    return ResNet(BasicBlock, [3, 3, 3], w=w)"
   ]
  },
  {
   "cell_type": "code",
   "execution_count": 201,
   "id": "b4234543",
   "metadata": {},
   "outputs": [],
   "source": [
    "# given two networks net0, net1 which each output a feature map of shape NxCxWxH\n",
    "# this will reshape both outputs to (N*W*H)xC\n",
    "# and then compute a CxC correlation matrix between the outputs of the two networks\n",
    "def run_corr_matrix(net0, net1, epochs=1, norm=True, loader=train_aug_loader):\n",
    "    n = epochs*len(loader)\n",
    "    mean0 = mean1 = std0 = std1 = None\n",
    "    with torch.no_grad():\n",
    "        net0.eval()\n",
    "        net1.eval()\n",
    "        for _ in range(epochs):\n",
    "            for i, (images, _) in enumerate(tqdm(loader)):\n",
    "                img_t = images.float().to(DEVICE)\n",
    "                out0 = net0(img_t)\n",
    "                out0 = out0.reshape(out0.shape[0], out0.shape[1], -1).permute(0, 2, 1)\n",
    "                out0 = out0.reshape(-1, out0.shape[2]).double()\n",
    "\n",
    "                out1 = net1(img_t)\n",
    "                out1 = out1.reshape(out1.shape[0], out1.shape[1], -1).permute(0, 2, 1)\n",
    "                out1 = out1.reshape(-1, out1.shape[2]).double()\n",
    "\n",
    "                out = torch.cat((out0, out1), dim=-1)\n",
    "                mean_b = out.mean(dim=0)\n",
    "                std0_b = out0.std(dim=0)\n",
    "                std1_b = out1.std(dim=0)\n",
    "                std_b = torch.cat((std0_b, std1_b), dim=-1)\n",
    "                outer_b = (out.T @ out) / out.shape[0]\n",
    "                \n",
    "                if i == 0:\n",
    "                    mean = torch.zeros_like(mean_b)\n",
    "                    std = torch.zeros_like(std_b)\n",
    "                    outer = torch.zeros_like(outer_b)\n",
    "                \n",
    "                mean += mean_b / n\n",
    "                std += std_b / n\n",
    "                outer += outer_b / n\n",
    "                \n",
    "#                 mean0_b = out0.mean(dim=0)\n",
    "#                 mean1_b = out1.mean(dim=0)\n",
    "#                 std0_b = out0.std(dim=0)\n",
    "#                 std1_b = out1.std(dim=0)\n",
    "                \n",
    "#                 outer_b = (out0.T @ out1) / out0.shape[0]\n",
    "\n",
    "#                 if i == 0:\n",
    "#                     mean0 = torch.zeros_like(mean0_b)\n",
    "#                     mean1 = torch.zeros_like(mean1_b)\n",
    "#                     std0 = torch.zeros_like(std0_b)\n",
    "#                     std1 = torch.zeros_like(std1_b)\n",
    "#                     outer = torch.zeros_like(outer_b)\n",
    "#                 mean0 += mean0_b / n\n",
    "#                 mean1 += mean1_b / n\n",
    "#                 std0 += std0_b / n\n",
    "#                 std1 += std1_b / n\n",
    "#                 outer += outer_b / n\n",
    "    cov = outer - torch.outer(mean, mean)\n",
    "#     cov = outer - torch.outer(mean0, mean1)\n",
    "    if norm:\n",
    "#         corr = cov / (torch.outer(std0, std1) + 1e-4)\n",
    "        cov = cov / (torch.outer(std, std) + 1e-4)\n",
    "    torch.diagonal(cov)[:] = -torch.inf\n",
    "    return cov"
   ]
  },
  {
   "cell_type": "code",
   "execution_count": 168,
   "id": "522206b6",
   "metadata": {},
   "outputs": [],
   "source": [
    "# given two networks net0, net1 which each output a feature map of shape NxCxWxH\n",
    "# this will reshape both outputs to (N*W*H)xC\n",
    "# and then compute a CxC correlation matrix between the outputs of the two networks\n",
    "def run_corr_matrix_og(net0, net1, epochs=1, norm=True, loader=train_aug_loader):\n",
    "    n = epochs*len(loader)\n",
    "    mean0 = mean1 = std0 = std1 = None\n",
    "    with torch.no_grad():\n",
    "        net0.eval()\n",
    "        net1.eval()\n",
    "        for _ in range(epochs):\n",
    "            for i, (images, _) in enumerate(tqdm(loader)):\n",
    "                img_t = images.float().to(DEVICE)\n",
    "                out0 = net0(img_t)\n",
    "                out0 = out0.reshape(out0.shape[0], out0.shape[1], -1).permute(0, 2, 1)\n",
    "                out0 = out0.reshape(-1, out0.shape[2])#.double()\n",
    "\n",
    "                out1 = net1(img_t)\n",
    "                out1 = out1.reshape(out1.shape[0], out1.shape[1], -1).permute(0, 2, 1)\n",
    "                out1 = out1.reshape(-1, out1.shape[2])#.double()\n",
    "\n",
    "                mean0_b = out0.mean(dim=0)\n",
    "                mean1_b = out1.mean(dim=0)\n",
    "                std0_b = out0.std(dim=0)\n",
    "                std1_b = out1.std(dim=0)\n",
    "                outer_b = (out0.T @ out1) / out0.shape[0]\n",
    "\n",
    "                if i == 0:\n",
    "                    mean0 = torch.zeros_like(mean0_b)\n",
    "                    mean1 = torch.zeros_like(mean1_b)\n",
    "                    std0 = torch.zeros_like(std0_b)\n",
    "                    std1 = torch.zeros_like(std1_b)\n",
    "                    outer = torch.zeros_like(outer_b)\n",
    "                mean0 += mean0_b / n\n",
    "                mean1 += mean1_b / n\n",
    "                std0 += std0_b / n\n",
    "                std1 += std1_b / n\n",
    "                outer += outer_b / n\n",
    "\n",
    "    cov = outer - torch.outer(mean0, mean1)\n",
    "    if norm:\n",
    "        cov = cov / (torch.outer(std0, std1) + 1e-4)\n",
    "    return cov"
   ]
  },
  {
   "cell_type": "code",
   "execution_count": 252,
   "id": "35478e9f",
   "metadata": {},
   "outputs": [],
   "source": [
    "def match_tensors_exact_bipartite_cov(\n",
    "    covariance,\n",
    "    r=.5\n",
    "):\n",
    "    O = covariance.shape[0]\n",
    "    remainder = int(O * (1-r))\n",
    "    bound = O - remainder\n",
    "    sims = covariance\n",
    "    permutation_matrix = torch.zeros((O, O - bound), device=sims.device)\n",
    "    for i in range(bound):\n",
    "        best_idx = sims.view(-1).argmax()\n",
    "        row_idx = best_idx % sims.shape[1]\n",
    "        col_idx = best_idx // sims.shape[1]\n",
    "        permutation_matrix[row_idx, i] = 1\n",
    "        permutation_matrix[col_idx, i] = 1\n",
    "        sims[row_idx] = -torch.inf\n",
    "        sims[col_idx] = -torch.inf\n",
    "        sims[:, row_idx] = -torch.inf\n",
    "        sims[:, col_idx] = -torch.inf\n",
    "    \n",
    "    unused = (sims.max(-1)[0] > -torch.inf).to(torch.int).nonzero().view(-1)\n",
    "    for i in range(bound, O-bound):\n",
    "        permutation_matrix[unused[i-bound], i] = 1\n",
    "    merge = permutation_matrix / (permutation_matrix.sum(dim=0, keepdim=True) + 1e-5)\n",
    "    unmerge = permutation_matrix\n",
    "    return merge.T, unmerge\n",
    "\n",
    "def match_tensors_permute(\n",
    "    covariance\n",
    "):\n",
    "#     torch.diagonal(covariance)[:] = -torch.inf\n",
    "    corr_mtx_a = covariance.cpu().numpy()\n",
    "    O = corr_mtx_a.shape[0]# // 2\n",
    "    row_ind, col_ind = scipy.optimize.linear_sum_assignment(corr_mtx_a[:O, :O], maximize=True)\n",
    "#     assert (row_ind == np.arange(len(corr_mtx_a))).all()\n",
    "    unmerge = torch.tensor(col_ind).long()\n",
    "    unmerge = torch.eye(O, device=covariance.device)[unmerge]\n",
    "    unmerge = torch.cat(\n",
    "        (\n",
    "            torch.eye(O, device=covariance.device),\n",
    "            unmerge.T\n",
    "        ), \n",
    "        dim=0\n",
    "    )\n",
    "    merge = unmerge / (unmerge.sum(dim=0, keepdim=True) + 1e-5)\n",
    "    return merge.T, unmerge"
   ]
  },
  {
   "cell_type": "code",
   "execution_count": 271,
   "id": "dc218ddd",
   "metadata": {},
   "outputs": [],
   "source": [
    "# returns the channel-permutation to make layer1's activations most closely\n",
    "# match layer0's.\n",
    "def get_layer_perm(net0, net1, method='max_weight', vizz=False, prune_threshold=-torch.inf):\n",
    "    corr_mtx = run_corr_matrix_og(net0, net1)\n",
    "    return match_tensors_permute(corr_mtx)\n",
    "\n",
    "# modifies the weight matrices of a convolution and batchnorm\n",
    "# layer given a permutation of the output channels\n",
    "def permute_output(merge, convs, bns):\n",
    "    pre_weights = [\n",
    "        (convs[0].weight, convs[1].weight, convs[2].weight),\n",
    "        (bns[0].weight, bns[1].weight, bns[2].weight),\n",
    "        (bns[0].bias, bns[1].bias, bns[2].bias),\n",
    "        (bns[0].running_mean, bns[1].running_mean, bns[2].running_mean),\n",
    "        (bns[0].running_var, bns[1].running_var, bns[2].running_var)\n",
    "    ]\n",
    "    for a, b, c in pre_weights:\n",
    "        w = torch.cat((a, b), dim=0)\n",
    "        if len(w.shape) == 4:\n",
    "            try:\n",
    "                transform = torch.einsum('ab,bcde->acde', merge, w)\n",
    "            except:\n",
    "                import pdb; pdb.set_trace()\n",
    "        else:# len(w.shape) == 2:\n",
    "            transform = merge @ w\n",
    "#         else:\n",
    "#             transform = w @ merge.t()\n",
    "#         assert torch.allclose(w[perm_map.argmax(-1)], transform)\n",
    "        c.data = transform\n",
    "#         w.data = w[perm_map]\n",
    "\n",
    "# modifies the weight matrix of a convolution layer for a given\n",
    "# permutation of the input channels\n",
    "def permute_input(unmerge, after_convs):\n",
    "    if not isinstance(after_convs, list):\n",
    "        after_convs = [after_convs]\n",
    "    post_weights = [(c[0].weight, c[1].weight, c[2].weight) for c in after_convs]\n",
    "    for (a, b, c) in post_weights:\n",
    "        w = torch.cat((a, b), dim=1)\n",
    "        if len(w.shape) == 4:\n",
    "            transform = torch.einsum('abcd,be->aecd', w, unmerge)\n",
    "        elif len(w.shape) == 2:\n",
    "            transform = w @ unmerge\n",
    "    #     assert torch.allclose(w[:, perm_map.argmax(-1)], transform)\n",
    "        c.data = transform\n",
    "#         w.data = w[:, perm_map, :, :]\n",
    "\n",
    "# def permute_cls_output(perm_map, linear):\n",
    "#     for w in [linear.weight, linear.bias]:\n",
    "#         w.data = perm_map @ w\n",
    "\n",
    "def combine_layers(elements, output_align, input_align=None):\n",
    "    for (a, b, c) in elements:\n",
    "        if input_align is not None:\n",
    "            zeros = torch.zeros_like(a)\n",
    "            ab = torch.cat(\n",
    "                (\n",
    "                    torch.cat((a, zeros), dim=0),\n",
    "                    torch.cat((zeros, b), dim=0)\n",
    "                ), dim=1\n",
    "            ) # [2O, 2I, H, W]\n",
    "            if len(ab.shape) == 4:\n",
    "                ab = torch.einsum('abcd,be->aecd', w, unmerge)\n",
    "            else:\n",
    "                ab = ab @ unmerge\n",
    "        else:\n",
    "            ab = torch.cat((a, b), dim=0)\n",
    "        if len(ab.shape) == 4:\n",
    "            try:\n",
    "                transform = torch.einsum('ab,bcde->acde', merge, ab)\n",
    "            except:\n",
    "                import pdb; pdb.set_trace()\n",
    "        else:# len(w.shape) == 2:\n",
    "            transform = merge @ ab\n",
    "    c.data = transform\n",
    "    "
   ]
  },
  {
   "cell_type": "markdown",
   "id": "0b36a785",
   "metadata": {},
   "source": [
    "# Find Bipartite Permutation"
   ]
  },
  {
   "cell_type": "code",
   "execution_count": 272,
   "id": "9a355a88",
   "metadata": {},
   "outputs": [
    {
     "data": {
      "text/plain": [
       "(9536, 9510)"
      ]
     },
     "execution_count": 272,
     "metadata": {},
     "output_type": "execute_result"
    }
   ],
   "source": [
    "model0 = resnet20(w=4).to(DEVICE)\n",
    "model1 = resnet20(w=4).to(DEVICE)\n",
    "modelc = resnet20(w=4).to(DEVICE)\n",
    "load_model(model0, 'resnet20x4_v1')\n",
    "load_model(model1, 'resnet20x4_v2')\n",
    "\n",
    "evaluate(model0), evaluate(model1)"
   ]
  },
  {
   "cell_type": "code",
   "execution_count": 255,
   "id": "9835b29e",
   "metadata": {},
   "outputs": [
    {
     "name": "stderr",
     "output_type": "stream",
     "text": [
      "100%|██████████████████████████████████████████████████████████████████████████████████████████████████████████████████████████████| 100/100 [00:05<00:00, 18.06it/s]\n"
     ]
    }
   ],
   "source": [
    "class Subnet(nn.Module):\n",
    "    def __init__(self, model):\n",
    "        super().__init__()\n",
    "        self.model = model\n",
    "    def forward(self, x):\n",
    "        self = self.model\n",
    "        x = F.relu(self.bn1(self.conv1(x)))\n",
    "        x = self.layer1(x)\n",
    "        return x\n",
    "# corr = run_corr_matrix(Subnet(model0), Subnet(model1))\n",
    "# perm_map1 = get_layer_perm1(corr)\n",
    "models = [model0, model1, modelc]\n",
    "merge, unmerge = get_layer_perm(Subnet(model0), Subnet(model1))\n",
    "permute_output(\n",
    "    merge, \n",
    "    [m.conv1 for m in models], \n",
    "    [m.bn1 for m in models]\n",
    ")\n",
    "\n",
    "permute_output(\n",
    "    merge, \n",
    "    [m.layer1[0].conv2 for m in models], \n",
    "    [m.layer1[0].bn2 for m in models]\n",
    ")\n",
    "permute_output(\n",
    "    merge, \n",
    "    [m.layer1[1].conv2 for m in models], \n",
    "    [m.layer1[1].bn2 for m in models]\n",
    ")\n",
    "permute_output(\n",
    "    merge, \n",
    "    [m.layer1[2].conv2 for m in models], \n",
    "    [m.layer1[2].bn2 for m in models]\n",
    ")\n",
    "permute_input(\n",
    "    unmerge, \n",
    "    [\n",
    "        [m.layer1[0].conv1 for m in models], \n",
    "        [m.layer1[1].conv1 for m in models], \n",
    "        [m.layer1[2].conv1 for m in models]\n",
    "    ]\n",
    ")\n",
    "permute_input(\n",
    "    unmerge, \n",
    "    [\n",
    "        [m.layer2[0].conv1 for m in models], \n",
    "        [m.layer2[0].shortcut[0] for m in models]\n",
    "    ]\n",
    ")"
   ]
  },
  {
   "cell_type": "code",
   "execution_count": 256,
   "id": "259a45d1",
   "metadata": {},
   "outputs": [],
   "source": [
    "# (merge[:128] * 2 - torch.eye(128, device=merge.device)).abs().sum()"
   ]
  },
  {
   "cell_type": "code",
   "execution_count": 257,
   "id": "b647d28e",
   "metadata": {},
   "outputs": [
    {
     "data": {
      "text/plain": [
       "tensor([[22]], device='cuda:0')"
      ]
     },
     "execution_count": 257,
     "metadata": {},
     "output_type": "execute_result"
    }
   ],
   "source": [
    "merge[:, 64:][17].nonzero()"
   ]
  },
  {
   "cell_type": "code",
   "execution_count": 258,
   "id": "a5eb0f33",
   "metadata": {},
   "outputs": [
    {
     "name": "stderr",
     "output_type": "stream",
     "text": [
      "100%|██████████████████████████████████████████████████████████████████████████████████████████████████████████████████████████████| 100/100 [00:07<00:00, 13.15it/s]\n"
     ]
    }
   ],
   "source": [
    "class Subnet(nn.Module):\n",
    "    def __init__(self, model):\n",
    "        super().__init__()\n",
    "        self.model = model\n",
    "    def forward(self, x):\n",
    "        self = self.model\n",
    "        x = F.relu(self.bn1(self.conv1(x)))\n",
    "        x = self.layer1(x)\n",
    "        x = self.layer2(x)\n",
    "        return x\n",
    "\n",
    "merge, unmerge = get_layer_perm(Subnet(model0), Subnet(model1))\n",
    "permute_output(\n",
    "    merge, \n",
    "    [m.layer2[0].conv2 for m in models], \n",
    "    [m.layer2[0].bn2 for m in models]\n",
    ")\n",
    "permute_output(\n",
    "    merge, \n",
    "    [m.layer2[0].shortcut[0] for m in models], \n",
    "    [m.layer2[0].shortcut[1] for m in models]\n",
    ")\n",
    "permute_output(\n",
    "    merge, \n",
    "    [m.layer2[1].conv2 for m in models], \n",
    "    [m.layer2[1].bn2 for m in models]\n",
    ")\n",
    "permute_output(\n",
    "    merge, \n",
    "    [m.layer2[2].conv2 for m in models], \n",
    "    [m.layer2[2].bn2 for m in models]\n",
    ")\n",
    "\n",
    "permute_input(\n",
    "    unmerge, \n",
    "    [\n",
    "        [m.layer2[1].conv1 for m in models], \n",
    "        [m.layer2[2].conv1 for m in models]\n",
    "    ]\n",
    ")\n",
    "permute_input(\n",
    "    unmerge, \n",
    "    [\n",
    "        [m.layer3[0].conv1 for m in models], \n",
    "        [m.layer3[0].shortcut[0] for m in models]\n",
    "    ]\n",
    ")"
   ]
  },
  {
   "cell_type": "code",
   "execution_count": 264,
   "id": "a237a8bf",
   "metadata": {},
   "outputs": [
    {
     "data": {
      "text/plain": [
       "tensor([[124]], device='cuda:0')"
      ]
     },
     "execution_count": 264,
     "metadata": {},
     "output_type": "execute_result"
    }
   ],
   "source": [
    "(merge[:, 128:]*2)[17].nonzero()"
   ]
  },
  {
   "cell_type": "code",
   "execution_count": 267,
   "id": "bdebbd48",
   "metadata": {},
   "outputs": [
    {
     "data": {
      "text/plain": [
       "tensor([[77]], device='cuda:0')"
      ]
     },
     "execution_count": 267,
     "metadata": {},
     "output_type": "execute_result"
    }
   ],
   "source": [
    "(unmerge[128:])[17].nonzero()"
   ]
  },
  {
   "cell_type": "code",
   "execution_count": 268,
   "id": "fc09f39f",
   "metadata": {},
   "outputs": [
    {
     "data": {
      "text/plain": [
       "torch.Size([256, 128])"
      ]
     },
     "execution_count": 268,
     "metadata": {},
     "output_type": "execute_result"
    }
   ],
   "source": [
    "unmerge.shape"
   ]
  },
  {
   "cell_type": "code",
   "execution_count": 269,
   "id": "9cf6a0b6",
   "metadata": {},
   "outputs": [
    {
     "data": {
      "text/plain": [
       "torch.Size([128, 128, 3, 3])"
      ]
     },
     "execution_count": 269,
     "metadata": {},
     "output_type": "execute_result"
    }
   ],
   "source": [
    "model1.layer2[0].conv2.weight.shape"
   ]
  },
  {
   "cell_type": "code",
   "execution_count": 222,
   "id": "b794aeb1",
   "metadata": {},
   "outputs": [
    {
     "name": "stderr",
     "output_type": "stream",
     "text": [
      "100%|██████████████████████████████████████████████████████████████████████████████████████████████████████████████████████████████| 100/100 [00:08<00:00, 11.30it/s]\n"
     ]
    }
   ],
   "source": [
    "class Subnet(nn.Module):\n",
    "    def __init__(self, model):\n",
    "        super().__init__()\n",
    "        self.model = model\n",
    "    def forward(self, x):\n",
    "        self = self.model\n",
    "        x = F.relu(self.bn1(self.conv1(x)))\n",
    "        x = self.layer1(x)\n",
    "        x = self.layer2(x)\n",
    "        x = self.layer3(x)\n",
    "        return x\n",
    "\n",
    "merge, unmerge = get_layer_perm(Subnet(model0), Subnet(model1))\n",
    "permute_output(\n",
    "    merge, \n",
    "    [m.layer3[0].conv2 for m in models], \n",
    "    [m.layer3[0].bn2 for m in models]\n",
    ")\n",
    "permute_output(\n",
    "    merge, \n",
    "    [m.layer3[0].shortcut[0] for m in models], \n",
    "    [m.layer3[0].shortcut[1] for m in models]\n",
    ")\n",
    "permute_output(\n",
    "    merge, \n",
    "    [m.layer3[1].conv2 for m in models], \n",
    "    [m.layer3[1].bn2 for m in models]\n",
    ")\n",
    "permute_output(\n",
    "    merge, \n",
    "    [m.layer3[2].conv2 for m in models], \n",
    "    [m.layer3[2].bn2 for m in models]\n",
    ")\n",
    "\n",
    "permute_input(\n",
    "    unmerge, \n",
    "    [\n",
    "        [m.layer3[1].conv1 for m in models], \n",
    "        [m.layer3[2].conv1 for m in models]\n",
    "    ]\n",
    ")\n",
    "modelc.linear.weight.data = torch.cat(\n",
    "    (\n",
    "        model0.linear.weight,\n",
    "        model1.linear.weight\n",
    "    ), dim=-1\n",
    ") @ unmerge # [:, perm_map]\n",
    "# w @ perm_map.t()"
   ]
  },
  {
   "cell_type": "code",
   "execution_count": 223,
   "id": "c5bc6126",
   "metadata": {},
   "outputs": [],
   "source": [
    "class Subnet(nn.Module):\n",
    "    def __init__(self, model, nb=9):\n",
    "        super().__init__()\n",
    "        self.model = model\n",
    "        self.blocks = []\n",
    "        self.blocks += list(model.layer1)\n",
    "        self.blocks += list(model.layer2)\n",
    "        self.blocks += list(model.layer3)\n",
    "        self.blocks = nn.Sequential(*self.blocks)\n",
    "        self.bn1 = model.bn1\n",
    "        self.conv1 = model.conv1\n",
    "        self.linear = model.linear\n",
    "        self.nb = nb\n",
    "        \n",
    "    def forward(self, x):\n",
    "        x = F.relu(self.bn1(self.conv1(x)))\n",
    "        x = self.blocks[:self.nb](x)\n",
    "        block = self.blocks[self.nb]\n",
    "        x = block.conv1(x)\n",
    "        x = block.bn1(x)\n",
    "        x = F.relu(x)\n",
    "        return x\n",
    "\n",
    "blocks0 = []\n",
    "blocks0 += list(model0.layer1)\n",
    "blocks0 += list(model0.layer2)\n",
    "blocks0 += list(model0.layer3)\n",
    "blocks0 = nn.Sequential(*blocks0)\n",
    "\n",
    "blocks1 = []\n",
    "blocks1 += list(model1.layer1)\n",
    "blocks1 += list(model1.layer2)\n",
    "blocks1 += list(model1.layer3)\n",
    "blocks1 = nn.Sequential(*blocks1)\n",
    "\n",
    "blocksc = []\n",
    "blocksc += list(modelc.layer1)\n",
    "blocksc += list(modelc.layer2)\n",
    "blocksc += list(modelc.layer3)\n",
    "blocksc = nn.Sequential(*blocksc)"
   ]
  },
  {
   "cell_type": "code",
   "execution_count": 224,
   "id": "32c5068c",
   "metadata": {},
   "outputs": [],
   "source": [
    "block_idx2name = {\n",
    "    0: 'layer1.0',\n",
    "    1: 'layer1.1',\n",
    "    2: 'layer1.2',\n",
    "    3: 'layer2.0',\n",
    "    4: 'layer2.1',\n",
    "    5: 'layer2.2',\n",
    "    6: 'layer3.0',\n",
    "    7: 'layer3.1',\n",
    "    8: 'layer3.2'\n",
    "}"
   ]
  },
  {
   "cell_type": "code",
   "execution_count": 225,
   "id": "725e06bc",
   "metadata": {},
   "outputs": [
    {
     "name": "stderr",
     "output_type": "stream",
     "text": [
      "100%|██████████████████████████████████████████████████████████████████████████████████████████████████████████████████████████████| 100/100 [00:03<00:00, 26.25it/s]\n",
      "100%|██████████████████████████████████████████████████████████████████████████████████████████████████████████████████████████████| 100/100 [00:03<00:00, 25.25it/s]\n",
      "100%|██████████████████████████████████████████████████████████████████████████████████████████████████████████████████████████████| 100/100 [00:04<00:00, 20.13it/s]\n",
      "100%|██████████████████████████████████████████████████████████████████████████████████████████████████████████████████████████████| 100/100 [00:05<00:00, 17.34it/s]\n",
      "100%|██████████████████████████████████████████████████████████████████████████████████████████████████████████████████████████████| 100/100 [00:06<00:00, 15.08it/s]\n",
      "100%|██████████████████████████████████████████████████████████████████████████████████████████████████████████████████████████████| 100/100 [00:07<00:00, 13.68it/s]\n",
      "100%|██████████████████████████████████████████████████████████████████████████████████████████████████████████████████████████████| 100/100 [00:07<00:00, 13.00it/s]\n",
      "100%|██████████████████████████████████████████████████████████████████████████████████████████████████████████████████████████████| 100/100 [00:08<00:00, 11.92it/s]\n",
      "100%|██████████████████████████████████████████████████████████████████████████████████████████████████████████████████████████████| 100/100 [00:08<00:00, 11.45it/s]\n"
     ]
    }
   ],
   "source": [
    "for nb, (block_idx, layer_name) in zip(range(9), block_idx2name.items()):\n",
    "    merge, unmerge = get_layer_perm(Subnet(model0, nb=nb), Subnet(model1, nb=nb))\n",
    "    block0 = blocks0[nb]\n",
    "    block1 = blocks1[nb]\n",
    "    blockc = blocksc[nb]\n",
    "    blocks = [block0, block1, blockc]\n",
    "    permute_output(\n",
    "        merge, \n",
    "        [m.conv1 for m in blocks], \n",
    "        [m.bn1 for m in blocks]\n",
    "    )\n",
    "    permute_input(\n",
    "        unmerge, \n",
    "        [\n",
    "            [m.conv2 for m in blocks]\n",
    "        ]\n",
    "    )"
   ]
  },
  {
   "cell_type": "code",
   "execution_count": 226,
   "id": "26093947",
   "metadata": {},
   "outputs": [],
   "source": [
    "# use the train loader with data augmentation as this gives better results\n",
    "def reset_bn_stats(model, epochs=1, loader=train_aug_loader):\n",
    "    # resetting stats to baseline first as below is necessary for stability\n",
    "    for m in model.modules():\n",
    "        if type(m) == nn.BatchNorm2d:\n",
    "            m.momentum = None # use simple average\n",
    "            m.reset_running_stats()\n",
    "    # run a single train epoch with augmentations to recalc stats\n",
    "    model.train()\n",
    "    for _ in range(epochs):\n",
    "        with torch.no_grad(), autocast():\n",
    "            for images, _ in loader:\n",
    "                output = model(images.to(DEVICE))"
   ]
  },
  {
   "cell_type": "code",
   "execution_count": 227,
   "id": "6ebea300",
   "metadata": {},
   "outputs": [
    {
     "name": "stdout",
     "output_type": "stream",
     "text": [
      "Pre-reset:\n",
      "Accuracy=11.58%, Loss=3.032\n",
      "Post-reset:\n",
      "Accuracy=76.03%, Loss=1.107\n"
     ]
    }
   ],
   "source": [
    "print('Pre-reset:')\n",
    "print('Accuracy=%.2f%%, Loss=%.3f' % (evaluate(modelc)/100, evaluate1(modelc)))\n",
    "\n",
    "reset_bn_stats(modelc)\n",
    "print('Post-reset:')\n",
    "print('Accuracy=%.2f%%, Loss=%.3f' % (evaluate(modelc)/100, evaluate1(modelc)))"
   ]
  },
  {
   "cell_type": "code",
   "execution_count": null,
   "id": "fb08d152",
   "metadata": {},
   "outputs": [],
   "source": []
  },
  {
   "cell_type": "code",
   "execution_count": null,
   "id": "6f362e0d",
   "metadata": {},
   "outputs": [],
   "source": []
  },
  {
   "cell_type": "code",
   "execution_count": null,
   "id": "71a8d9ed",
   "metadata": {},
   "outputs": [],
   "source": []
  }
 ],
 "metadata": {
  "kernelspec": {
   "display_name": "Python 3",
   "language": "python",
   "name": "python3"
  },
  "language_info": {
   "codemirror_mode": {
    "name": "ipython",
    "version": 3
   },
   "file_extension": ".py",
   "mimetype": "text/x-python",
   "name": "python",
   "nbconvert_exporter": "python",
   "pygments_lexer": "ipython3",
   "version": "3.7.13"
  }
 },
 "nbformat": 4,
 "nbformat_minor": 5
}
