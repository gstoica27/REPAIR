{
 "cells": [
  {
   "cell_type": "code",
   "execution_count": 1,
   "id": "cc1cde7b",
   "metadata": {},
   "outputs": [
    {
     "name": "stderr",
     "output_type": "stream",
     "text": [
      "/srv/share/gstoica3/miniconda3/envs/open-mmlab/lib/python3.7/site-packages/tqdm/auto.py:22: TqdmWarning: IProgress not found. Please update jupyter and ipywidgets. See https://ipywidgets.readthedocs.io/en/stable/user_install.html\n",
      "  from .autonotebook import tqdm as notebook_tqdm\n"
     ]
    }
   ],
   "source": [
    "from tqdm import tqdm\n",
    "import numpy as np\n",
    "import scipy.optimize\n",
    "\n",
    "import torch\n",
    "from torch import nn\n",
    "from torch.cuda.amp import GradScaler, autocast\n",
    "from torch.nn import CrossEntropyLoss\n",
    "from torch.optim import SGD, lr_scheduler\n",
    "import torchvision\n",
    "import torchvision.transforms as T"
   ]
  },
  {
   "cell_type": "code",
   "execution_count": 2,
   "id": "88f977c5",
   "metadata": {},
   "outputs": [],
   "source": [
    "import pdb\n",
    "import os\n",
    "import matplotlib.pyplot as plt\n",
    "import sys\n",
    "np.set_printoptions(threshold=sys.maxsize)"
   ]
  },
  {
   "cell_type": "code",
   "execution_count": 25,
   "id": "1220df0d",
   "metadata": {},
   "outputs": [],
   "source": [
    "def save_model(model, i):\n",
    "    sd = model.state_dict()\n",
    "    torch.save(model.state_dict(), os.path.join('/srv/share4/gstoica3/checkpoints/REPAIR/', '%s.pt' % i))\n",
    "\n",
    "def load_model(model, i):\n",
    "    sd = torch.load(os.path.join('/srv/share4/gstoica3/checkpoints/REPAIR', '%s.pt' % i))\n",
    "    model.load_state_dict(sd)\n",
    "    \n",
    "def evaluate(model):\n",
    "    model.eval()\n",
    "    correct = 0\n",
    "    with torch.no_grad(), autocast():\n",
    "        for inputs, labels in test_loader:\n",
    "            outputs = model(inputs.cuda())\n",
    "            pred = outputs.argmax(dim=1)\n",
    "            correct += (labels.cuda() == pred).sum().item()\n",
    "    return correct / len(test_loader.dataset)\n",
    "\n",
    "def train_model(w=1):\n",
    "    model = vgg11(w)\n",
    "    optimizer = SGD(model.parameters(), lr=0.08, momentum=0.9, weight_decay=5e-4)\n",
    "\n",
    "    EPOCHS = 100\n",
    "    ne_iters = len(train_aug_loader)\n",
    "    lr_schedule = np.interp(np.arange(1+EPOCHS*ne_iters), [0, 5*ne_iters, EPOCHS*ne_iters], [0, 1, 0])\n",
    "    scheduler = lr_scheduler.LambdaLR(optimizer, lr_schedule.__getitem__)\n",
    "\n",
    "    scaler = GradScaler()\n",
    "    loss_fn = CrossEntropyLoss()\n",
    "\n",
    "    losses = []\n",
    "    for epoch in tqdm(range(EPOCHS)):\n",
    "        model.train()\n",
    "        for i, (inputs, labels) in enumerate(train_aug_loader):\n",
    "            optimizer.zero_grad(set_to_none=True)\n",
    "            with autocast():\n",
    "                outputs = model(inputs.cuda())\n",
    "                loss = loss_fn(outputs, labels.cuda())\n",
    "            scaler.scale(loss).backward()\n",
    "            scaler.step(optimizer)\n",
    "            scaler.update()\n",
    "            scheduler.step()\n",
    "            losses.append(loss.item())\n",
    "    return model\n",
    "\n",
    "def mix_weights(net, alpha, key0, key1, conditional_fn=None, mixable_weights=None):\n",
    "    if isinstance(key0, str):\n",
    "        sd0 = torch.load(os.path.join('/srv/share4/gstoica3/checkpoints/REPAIR', '%s.pt' % key0))\n",
    "    else:\n",
    "        sd0 = key0\n",
    "    if isinstance(key1, str):\n",
    "        sd1 = torch.load(os.path.join('/srv/share4/gstoica3/checkpoints/REPAIR', '%s.pt' % key1))\n",
    "    else:\n",
    "        sd1 = key1\n",
    "    sd_alpha = {}\n",
    "    for k in sd0.keys():\n",
    "        if (mixable_weights is not None and k in mixable_weights) or mixable_weights is None:\n",
    "            sd_alpha[k] = (1 - alpha) * sd0[k].cuda() + alpha * sd1[k].cuda()\n",
    "        elif alpha <= .5:\n",
    "            sd_alpha[k] = sd0[k].cuda()\n",
    "        elif alpha > .5:\n",
    "            sd_alpha[k] = sd1[k].cuda()\n",
    "        else:\n",
    "            raise ValueError('Weight Mixer Failed')\n",
    "#     sd_alpha = {k: (1 - alpha) * sd0[k].cuda() + alpha * sd1[k].cuda()\n",
    "#                 for k in sd0.keys()}\n",
    "    net.load_state_dict(sd_alpha)\n",
    "\n",
    "def get_post_alignment_performance(\n",
    "    model_a, alpha, k0, k1, \n",
    "    mixer=mix_weights, \n",
    "    conditional_fn=lambda x: x<.0,\n",
    "    mixable_weights=None\n",
    "):\n",
    "    mixer(model_a, alpha, k0, k1, conditional_fn=conditional_fn, mixable_weights=mixable_weights)\n",
    "    return 100*evaluate(model_a)"
   ]
  },
  {
   "cell_type": "markdown",
   "id": "74fda4a6",
   "metadata": {},
   "source": [
    "# Load CIFAR10"
   ]
  },
  {
   "cell_type": "code",
   "execution_count": 4,
   "id": "5010c806",
   "metadata": {},
   "outputs": [
    {
     "name": "stdout",
     "output_type": "stream",
     "text": [
      "Files already downloaded and verified\n",
      "Files already downloaded and verified\n"
     ]
    }
   ],
   "source": [
    "CIFAR_MEAN = [125.307, 122.961, 113.8575]\n",
    "CIFAR_STD = [51.5865, 50.847, 51.255]\n",
    "normalize = T.Normalize(np.array(CIFAR_MEAN)/255, np.array(CIFAR_STD)/255)\n",
    "denormalize = T.Normalize(-np.array(CIFAR_MEAN)/np.array(CIFAR_STD), 255/np.array(CIFAR_STD))\n",
    "\n",
    "train_transform = T.Compose([\n",
    "    T.RandomHorizontalFlip(),\n",
    "    T.RandomCrop(32, padding=4),\n",
    "    T.ToTensor(),\n",
    "    normalize,\n",
    "])\n",
    "test_transform = T.Compose([\n",
    "    T.ToTensor(),\n",
    "    normalize,\n",
    "])\n",
    "train_dset = torchvision.datasets.CIFAR10(root='/tmp', train=True,\n",
    "                                        download=True, transform=train_transform)\n",
    "test_dset = torchvision.datasets.CIFAR10(root='/tmp', train=False,\n",
    "                                        download=True, transform=test_transform)\n",
    "\n",
    "train_aug_loader = torch.utils.data.DataLoader(train_dset, batch_size=500, shuffle=True, num_workers=8)\n",
    "test_loader = torch.utils.data.DataLoader(test_dset, batch_size=500, shuffle=False, num_workers=8)"
   ]
  },
  {
   "cell_type": "markdown",
   "id": "41c50c81",
   "metadata": {},
   "source": [
    "# Initialize VGG11 Code"
   ]
  },
  {
   "cell_type": "code",
   "execution_count": 5,
   "id": "e9f4ae99",
   "metadata": {},
   "outputs": [],
   "source": [
    "# https://github.com/kuangliu/pytorch-cifar/blob/master/models/vgg.py\n",
    "cfg = {\n",
    "    'VGG11': [64, 'M', 128, 'M', 256, 256, 'M', 512, 512, 'M', 512, 512, 'M'],\n",
    "    'VGG13': [64, 64, 'M', 128, 128, 'M', 256, 256, 'M', 512, 512, 'M', 512, 512, 'M'],\n",
    "    'VGG16': [64, 64, 'M', 128, 128, 'M', 256, 256, 256, 'M', 512, 512, 512, 'M', 512, 512, 512, 'M'],\n",
    "    'VGG19': [64, 64, 'M', 128, 128, 'M', 256, 256, 256, 256, 'M', 512, 512, 512, 512, 'M', 512, 512, 512, 512, 'M'],\n",
    "}\n",
    "\n",
    "class VGG(nn.Module):\n",
    "    def __init__(self, vgg_name, w=1):\n",
    "        super(VGG, self).__init__()\n",
    "        self.w = w\n",
    "        self.features = self._make_layers(cfg[vgg_name])\n",
    "        self.classifier = nn.Linear(self.w*512, 10)\n",
    "\n",
    "    def forward(self, x):\n",
    "        out = self.features(x)\n",
    "        out = out.view(out.size(0), -1)\n",
    "        out = self.classifier(out)\n",
    "        return out\n",
    "\n",
    "    def _make_layers(self, cfg):\n",
    "        layers = []\n",
    "        in_channels = 3\n",
    "        for x in cfg:\n",
    "            if x == 'M':\n",
    "                layers += [nn.MaxPool2d(kernel_size=2, stride=2)]\n",
    "            else:\n",
    "                layers.append(nn.Conv2d(in_channels if in_channels == 3 else self.w*in_channels,\n",
    "                                     self.w*x, kernel_size=3, padding=1))\n",
    "                layers.append(nn.ReLU(inplace=True))\n",
    "                in_channels = x\n",
    "        layers += [nn.AvgPool2d(kernel_size=1, stride=1)]\n",
    "        return nn.Sequential(*layers)\n",
    "    \n",
    "def vgg11(w=1):\n",
    "    return VGG('VGG11', w).cuda()"
   ]
  },
  {
   "cell_type": "markdown",
   "id": "d3f3b927",
   "metadata": {},
   "source": [
    "## Initialize Networks"
   ]
  },
  {
   "cell_type": "code",
   "execution_count": 6,
   "id": "d04e0ada",
   "metadata": {},
   "outputs": [
    {
     "data": {
      "text/plain": [
       "(0.8982, 0.8977)"
      ]
     },
     "execution_count": 6,
     "metadata": {},
     "output_type": "execute_result"
    }
   ],
   "source": [
    "model0 = vgg11()\n",
    "model1 = vgg11()\n",
    "load_model(model0, 'vgg11_v1')\n",
    "load_model(model1, 'vgg11_v7')\n",
    "\n",
    "evaluate(model0), evaluate(model1)"
   ]
  },
  {
   "cell_type": "markdown",
   "id": "a7da34a1",
   "metadata": {},
   "source": [
    "# Permutation Code"
   ]
  },
  {
   "cell_type": "code",
   "execution_count": 7,
   "id": "2c451c41",
   "metadata": {},
   "outputs": [],
   "source": [
    "# Given two networks net0, net1 which each output a feature map of shape NxCxWxH,\n",
    "# this will reshape both outputs to (N*W*H)xC\n",
    "# and then compute a CxC correlation matrix between the two\n",
    "def run_corr_matrix(net0, net1):\n",
    "    n = len(train_aug_loader)\n",
    "    with torch.no_grad():\n",
    "        net0.eval()\n",
    "        net1.eval()\n",
    "        for i, (images, _) in enumerate(tqdm(train_aug_loader)):\n",
    "            \n",
    "            img_t = images.float().cuda()\n",
    "            out0 = net0(img_t).double()\n",
    "            out0 = out0.permute(0, 2, 3, 1).reshape(-1, out0.shape[1])\n",
    "            out1 = net1(img_t).double()\n",
    "            out1 = out1.permute(0, 2, 3, 1).reshape(-1, out1.shape[1])\n",
    "\n",
    "            # save batchwise first+second moments and outer product\n",
    "            mean0_b = out0.mean(dim=0)\n",
    "            mean1_b = out1.mean(dim=0)\n",
    "            sqmean0_b = out0.square().mean(dim=0)\n",
    "            sqmean1_b = out1.square().mean(dim=0)\n",
    "            outer_b = (out0.T @ out1) / out0.shape[0]\n",
    "            if i == 0:\n",
    "                mean0 = torch.zeros_like(mean0_b)\n",
    "                mean1 = torch.zeros_like(mean1_b)\n",
    "                sqmean0 = torch.zeros_like(sqmean0_b)\n",
    "                sqmean1 = torch.zeros_like(sqmean1_b)\n",
    "                outer = torch.zeros_like(outer_b)\n",
    "            mean0 += mean0_b / n\n",
    "            mean1 += mean1_b / n\n",
    "            sqmean0 += sqmean0_b / n\n",
    "            sqmean1 += sqmean1_b / n\n",
    "            outer += outer_b / n\n",
    "\n",
    "    cov = outer - torch.outer(mean0, mean1)\n",
    "    std0 = (sqmean0 - mean0**2).sqrt()\n",
    "    std1 = (sqmean1 - mean1**2).sqrt()\n",
    "    corr = cov / (torch.outer(std0, std1) + 1e-4)\n",
    "    return corr\n",
    "\n",
    "def get_layer_perm1(corr_mtx):\n",
    "    corr_mtx_a = corr_mtx.cpu().numpy()\n",
    "    row_ind, col_ind = scipy.optimize.linear_sum_assignment(corr_mtx_a, maximize=True)\n",
    "    assert (row_ind == np.arange(len(corr_mtx_a))).all()\n",
    "    perm_map = torch.tensor(col_ind).long()\n",
    "    return perm_map\n",
    "\n",
    "# returns the channel-permutation to make layer1's activations most closely\n",
    "# match layer0's.\n",
    "def get_layer_perm(net0, net1):\n",
    "    corr_mtx = run_corr_matrix(net0, net1)\n",
    "    return get_layer_perm1(corr_mtx)\n",
    "\n",
    "# modifies the weight matrices of a convolution and batchnorm\n",
    "# layer given a permutation of the output channels\n",
    "def permute_output(perm_map, layer):\n",
    "    pre_weights = [layer.weight,\n",
    "                   layer.bias]\n",
    "    for w in pre_weights:\n",
    "        w.data = w[perm_map]\n",
    "\n",
    "# modifies the weight matrix of a layer for a given permutation of the input channels\n",
    "# works for both conv2d and linear\n",
    "def permute_input(perm_map, layer):\n",
    "    w = layer.weight\n",
    "    w.data = w[:, perm_map]"
   ]
  },
  {
   "cell_type": "code",
   "execution_count": 8,
   "id": "831734e4",
   "metadata": {},
   "outputs": [
    {
     "name": "stderr",
     "output_type": "stream",
     "text": [
      "100%|█████████████████████████████████████████████████████████████████████████████████████| 100/100 [00:03<00:00, 26.31it/s]\n",
      "100%|█████████████████████████████████████████████████████████████████████████████████████| 100/100 [00:03<00:00, 25.04it/s]\n",
      "100%|█████████████████████████████████████████████████████████████████████████████████████| 100/100 [00:03<00:00, 25.49it/s]\n",
      "100%|█████████████████████████████████████████████████████████████████████████████████████| 100/100 [00:04<00:00, 24.05it/s]\n",
      "100%|█████████████████████████████████████████████████████████████████████████████████████| 100/100 [00:04<00:00, 24.34it/s]\n",
      "100%|█████████████████████████████████████████████████████████████████████████████████████| 100/100 [00:04<00:00, 24.03it/s]\n",
      "100%|█████████████████████████████████████████████████████████████████████████████████████| 100/100 [00:04<00:00, 24.39it/s]\n",
      "100%|█████████████████████████████████████████████████████████████████████████████████████| 100/100 [00:03<00:00, 25.94it/s]\n"
     ]
    }
   ],
   "source": [
    "def subnet(model, n_layers):\n",
    "    return model.features[:n_layers]\n",
    "\n",
    "feats1 = model1.features\n",
    "\n",
    "n = len(feats1)\n",
    "for i in range(n):\n",
    "    if not isinstance(feats1[i], nn.Conv2d):\n",
    "        continue\n",
    "    \n",
    "    # permute the outputs of the current conv layer\n",
    "    assert isinstance(feats1[i+1], nn.ReLU)\n",
    "    perm_map = get_layer_perm(subnet(model0, i+2), subnet(model1, i+2))\n",
    "    permute_output(perm_map, feats1[i])\n",
    "    \n",
    "    # look for the next conv layer, whose inputs should be permuted the same way\n",
    "    next_layer = None\n",
    "    for j in range(i+1, n):\n",
    "        if isinstance(feats1[j], nn.Conv2d):\n",
    "            next_layer = feats1[j]\n",
    "            break\n",
    "    if next_layer is None:\n",
    "        next_layer = model1.classifier\n",
    "    permute_input(perm_map, next_layer)"
   ]
  },
  {
   "cell_type": "code",
   "execution_count": 9,
   "id": "dc9666ea",
   "metadata": {},
   "outputs": [
    {
     "name": "stdout",
     "output_type": "stream",
     "text": [
      "0.8977\n"
     ]
    }
   ],
   "source": [
    "# ensure accuracy didn't change\n",
    "# (it may be slightly different due to non-associativity of floating point arithmetic)\n",
    "print(evaluate(model1))\n",
    "save_model(model1, 'vgg11_v2_perm1')"
   ]
  },
  {
   "cell_type": "markdown",
   "id": "9d1abd3a",
   "metadata": {},
   "source": [
    "## Merge Permuted Networks"
   ]
  },
  {
   "cell_type": "code",
   "execution_count": 10,
   "id": "da52c99c",
   "metadata": {},
   "outputs": [
    {
     "name": "stdout",
     "output_type": "stream",
     "text": [
      "(α=0): 89.8% \t\t<-- Model A\n",
      "(α=1): 89.8% \t\t<-- Model B\n",
      "(α=0.5): 71.0% \t\t<-- Merged model\n"
     ]
    }
   ],
   "source": [
    "k0 = 'vgg11_v1'\n",
    "k1 = 'vgg11_v2_perm1'\n",
    "model0 = vgg11()\n",
    "model1 = vgg11()\n",
    "model_a = vgg11()\n",
    "mix_weights(model0, 0.0, k0, k1)\n",
    "mix_weights(model1, 1.0, k0, k1)\n",
    "\n",
    "alpha = 0.5\n",
    "mix_weights(model_a, alpha, k0, k1)\n",
    "print('(α=0): %.1f%% \\t\\t<-- Model A' % (100*evaluate(model0)))\n",
    "print('(α=1): %.1f%% \\t\\t<-- Model B' % (100*evaluate(model1)))\n",
    "print('(α=0.5): %.1f%% \\t\\t<-- Merged model' % (100*evaluate(model_a)))"
   ]
  },
  {
   "cell_type": "code",
   "execution_count": 11,
   "id": "ca5b3f3f",
   "metadata": {},
   "outputs": [
    {
     "name": "stderr",
     "output_type": "stream",
     "text": [
      "100%|███████████████████████████████████████████████████████████████████████████████████████| 21/21 [00:36<00:00,  1.72s/it]\n"
     ]
    }
   ],
   "source": [
    "alphas = np.arange(0, 1.05, .05)\n",
    "permuted_performances = [\n",
    "    get_post_alignment_performance(\n",
    "        model_a, alpha, k0, k1\n",
    "    ) for alpha in tqdm(alphas, position=0, leave=True)\n",
    "]"
   ]
  },
  {
   "cell_type": "code",
   "execution_count": 12,
   "id": "7724125e",
   "metadata": {},
   "outputs": [
    {
     "data": {
      "image/png": "[encoded data removed]",
      "text/plain": [
       "<Figure size 640x480 with 1 Axes>"
      ]
     },
     "metadata": {},
     "output_type": "display_data"
    }
   ],
   "source": [
    "plt.plot(alphas, permuted_performances, 'blue', label='Permutation')\n",
    "plt.title('Performance Gap with Permutations')\n",
    "plt.xlabel('Mixing Alpha')\n",
    "plt.ylabel('Accuracy')\n",
    "plt.legend()\n",
    "plt.show()"
   ]
  },
  {
   "cell_type": "markdown",
   "id": "7cf0cbac",
   "metadata": {},
   "source": [
    "# Merge Only Permuted First Layer"
   ]
  },
  {
   "cell_type": "code",
   "execution_count": 13,
   "id": "70be65cd",
   "metadata": {},
   "outputs": [
    {
     "data": {
      "text/plain": [
       "odict_keys(['features.0.weight', 'features.0.bias', 'features.3.weight', 'features.3.bias', 'features.6.weight', 'features.6.bias', 'features.8.weight', 'features.8.bias', 'features.11.weight', 'features.11.bias', 'features.13.weight', 'features.13.bias', 'features.16.weight', 'features.16.bias', 'features.18.weight', 'features.18.bias', 'classifier.weight', 'classifier.bias'])"
      ]
     },
     "execution_count": 13,
     "metadata": {},
     "output_type": "execute_result"
    }
   ],
   "source": [
    "model1.state_dict().keys()"
   ]
  },
  {
   "cell_type": "code",
   "execution_count": 26,
   "id": "b01d208f",
   "metadata": {},
   "outputs": [
    {
     "name": "stderr",
     "output_type": "stream",
     "text": [
      "100%|███████████████████████████████████████████████████████████████████████████████████████| 21/21 [00:35<00:00,  1.68s/it]\n"
     ]
    }
   ],
   "source": [
    "mixable_weights = ['features.0.weight', 'features.0.bias']\n",
    "alphas = np.arange(0, 1.05, .05)\n",
    "model_a = vgg11()\n",
    "permuted_performances = [\n",
    "    get_post_alignment_performance(\n",
    "        model_a, alpha, k0, k1, mixable_weights=mixable_weights\n",
    "    ) for alpha in tqdm(alphas, position=0, leave=True)\n",
    "]"
   ]
  },
  {
   "cell_type": "code",
   "execution_count": 27,
   "id": "eadffa9a",
   "metadata": {},
   "outputs": [
    {
     "data": {
      "image/png": "[encoded data removed]",
      "text/plain": [
       "<Figure size 640x480 with 1 Axes>"
      ]
     },
     "metadata": {},
     "output_type": "display_data"
    }
   ],
   "source": [
    "plt.plot(alphas, permuted_performances, 'blue', label='Permutation')\n",
    "plt.title('Performance Gap with Permutations')\n",
    "plt.xlabel('Mixing Alpha')\n",
    "plt.ylabel('Accuracy')\n",
    "plt.legend()\n",
    "plt.show()"
   ]
  },
  {
   "cell_type": "markdown",
   "id": "e49a9557",
   "metadata": {},
   "source": [
    "# Compare Permutation vs Greedy Matching at First Layer"
   ]
  },
  {
   "cell_type": "code",
   "execution_count": 42,
   "id": "1c7a3134",
   "metadata": {},
   "outputs": [
    {
     "data": {
      "text/plain": [
       "(torch.Size([64, 3, 3, 3]), torch.Size([64]))"
      ]
     },
     "execution_count": 42,
     "metadata": {},
     "output_type": "execute_result"
    }
   ],
   "source": [
    "model0.state_dict()['features.0.weight'].shape, model1.state_dict()['features.0.bias'].shape"
   ]
  },
  {
   "cell_type": "code",
   "execution_count": 44,
   "id": "d20d8967",
   "metadata": {},
   "outputs": [],
   "source": [
    "model0_w = model0.state_dict()['features.0.weight'].flatten(1)\n",
    "model1_w = model1.state_dict()['features.0.weight'].flatten(1)"
   ]
  },
  {
   "cell_type": "code",
   "execution_count": 45,
   "id": "24c1bdf8",
   "metadata": {},
   "outputs": [
    {
     "data": {
      "text/plain": [
       "(torch.Size([64, 27]), torch.Size([64, 27]))"
      ]
     },
     "execution_count": 45,
     "metadata": {},
     "output_type": "execute_result"
    }
   ],
   "source": [
    "model0_w.shape, model1_w.shape"
   ]
  },
  {
   "cell_type": "code",
   "execution_count": 46,
   "id": "d3f40178",
   "metadata": {},
   "outputs": [],
   "source": [
    "cos_sim = nn.CosineSimilarity(dim=1)"
   ]
  },
  {
   "cell_type": "code",
   "execution_count": 47,
   "id": "a170a5e5",
   "metadata": {},
   "outputs": [],
   "source": [
    "output_sims = cos_sim(model0_w, model1_w)"
   ]
  },
  {
   "cell_type": "code",
   "execution_count": 50,
   "id": "d91a7a9b",
   "metadata": {},
   "outputs": [
    {
     "data": {
      "text/plain": [
       "tensor([0.3797, 0.9824, 0.9112, 0.7996, 0.7272, 0.7559, 0.2709, 0.7370, 0.4638,\n",
       "        0.7310, 0.8742, 0.5318, 0.7405, 0.9377, 0.7206, 0.8569, 0.8852, 0.4220,\n",
       "        0.1143, 0.8138, 0.4964, 0.8304, 0.6729, 0.4187, 0.2508, 0.9687, 0.0714,\n",
       "        0.2768, 0.7209, 0.8796, 0.8963, 0.2734, 0.3103, 0.7109, 0.8969, 0.9689,\n",
       "        0.8383, 0.9107, 0.6592, 0.7328, 0.3225, 0.4053, 0.6353, 0.5580, 0.2808,\n",
       "        0.9176, 0.6147, 0.7362, 0.8106, 0.8038, 0.8971, 0.3708, 0.9884, 0.7706,\n",
       "        0.8846, 0.6533, 0.3832, 0.8441, 0.4787, 0.9465, 0.8339, 0.3590, 0.4881,\n",
       "        0.2462], device='cuda:0')"
      ]
     },
     "execution_count": 50,
     "metadata": {},
     "output_type": "execute_result"
    }
   ],
   "source": [
    "output_sims"
   ]
  },
  {
   "cell_type": "code",
   "execution_count": 70,
   "id": "baab6eef",
   "metadata": {},
   "outputs": [],
   "source": [
    "def mix_weights(net, alpha, sd0, sd1, conditional_fn=None, mixable_weights=None, ignore_features=None):\n",
    "    sd_alpha = {}\n",
    "    for k in sd0.keys():\n",
    "        if (mixable_weights is not None and k in mixable_weights) or mixable_weights is None:\n",
    "            sd_alpha[k] = (1 - alpha) * sd0[k].cuda() + alpha * sd1[k].cuda()\n",
    "            if ignore_features is not None:\n",
    "                sd_alpha[k][ignore_features] = sd0[k].cuda()[ignore_features]\n",
    "        elif alpha <= .5:\n",
    "            sd_alpha[k] = sd0[k].cuda()\n",
    "        elif alpha > .5:\n",
    "            sd_alpha[k] = sd1[k].cuda()\n",
    "        else:\n",
    "            raise ValueError('Weight Mixer Failed')\n",
    "    net.load_state_dict(sd_alpha)\n",
    "\n",
    "def get_post_alignment_performance(\n",
    "    model_a, alpha, k0, k1, \n",
    "    mixer=mix_weights, \n",
    "    conditional_fn=lambda x: x<.0,\n",
    "    mixable_weights=None\n",
    "):\n",
    "    mixer(model_a, alpha, k0, k1, conditional_fn=conditional_fn, mixable_weights=mixable_weights)\n",
    "    return 100*evaluate(model_a)"
   ]
  },
  {
   "cell_type": "code",
   "execution_count": 72,
   "id": "c8709f8c",
   "metadata": {},
   "outputs": [],
   "source": [
    "k0 = 'vgg11_v1'\n",
    "k1 = 'vgg11_v7'\n",
    "model0 = vgg11()\n",
    "model1 = vgg11()\n",
    "model_permute = vgg11()\n",
    "model1_base = vgg11()\n",
    "model_bipartite = vgg11()\n",
    "mix_weights(model0, 0.0, model0.state_dict(), model1.state_dict())\n",
    "mix_weights(model1, 1.0, model0.state_dict(), model1.state_dict())\n",
    "mix_weights(model1_base, 1.0, model0.state_dict(), model1.state_dict())\n",
    "mix_weights(model_permute, 1.0, model0.state_dict(), model1.state_dict())\n",
    "mix_weights(model_bipartite, 1.0, model0.state_dict(), model1.state_dict())"
   ]
  },
  {
   "cell_type": "code",
   "execution_count": null,
   "id": "e75eb209",
   "metadata": {},
   "outputs": [],
   "source": [
    "# Greedy Bipartite matching\n",
    "def bipartite_matching(corr):\n",
    "    idx = corr.argmax(0)\n",
    "    mapping = torch.eye(corr.shape[0], device=corr.device)[idx]\n",
    "    total_collapsed = mapping.sum(0, keepdim=True) + 1.\n",
    "    mapping = mapping / total_collapsed\n",
    "    return mapping, total_collapsed\n",
    "\n",
    "def get_layer_bipartite(net0, net1):\n",
    "    corr_mtx = run_corr_matrix(net0, net1)\n",
    "    bipartite_match, collapsed =  bipartite_matching(corr_mtx)\n",
    "    return bipartite_match, collapsed\n",
    "\n",
    "def bipartite_output(mapping, layer):\n",
    "    pre_weights = [layer.weight, layer.bias]\n",
    "    for w in pre_weights:\n",
    "        if len(w.shape) == 4:\n",
    "            w.data = torch.einsum('ab,bcde->abcd', mapping.t(), w)\n",
    "        elif len(w.shape) == 2:\n",
    "            w.data = mapping.t() @ w\n",
    "        elif len(w.shape) == 1:\n",
    "            w.data = w @ mapping\n",
    "\n",
    "def bipartite_input(mapping, layer):\n",
    "    pre_weights = [layer.weight, layer.bias]\n",
    "    for w in pre_weights:\n",
    "        if len(w.shape) == 4:\n",
    "            w.data = torch.einsum('abcd,be->aecd', w, mapping)\n",
    "        elif len(w.shape) == 2:\n",
    "            w.data = w @ mapping\n",
    "        elif len(w.shape) == 1:\n",
    "            w.data = w @ mapping\n",
    "    "
   ]
  },
  {
   "cell_type": "code",
   "execution_count": 104,
   "id": "6198bcb0",
   "metadata": {},
   "outputs": [],
   "source": [
    "from collections import defaultdict"
   ]
  },
  {
   "cell_type": "code",
   "execution_count": 106,
   "id": "82b28e85",
   "metadata": {},
   "outputs": [],
   "source": [
    "def subnet(model, n_layers):\n",
    "    return model.features[:n_layers]\n",
    "\n",
    "def reweight_source_features(source, weights):\n",
    "    for param in [source.weight, source.bias]:\n",
    "        if len(param.shape) == 4:\n",
    "            weights = weights.view(-1, 1, 1, 1)\n",
    "        elif len(param.shape) == 2:\n",
    "            weights = weights.view(-1, 1)\n",
    "        else:\n",
    "            weights = weights\n",
    "        param.data = param / weights\n",
    "\n",
    "def align_target_to_source(source, target, variant='permute'):\n",
    "    source_feats = source.features\n",
    "    target_feats = target.features\n",
    "    layer2ignored_feats = defaultdict(lambda: dict())\n",
    "    \n",
    "    n = len(source_feats)\n",
    "    for i in range(n):\n",
    "        if not isinstance(source_feats[i], nn.Conv2d):\n",
    "            continue\n",
    "        assert isinstance(source_feats[i+1], nn.ReLU)\n",
    "        source_layer = subnet(source, i+2)\n",
    "        target_layer = subnet(target, i+2)\n",
    "        layer2ignored_feats[source_layer]['output_ignore'] = torch.zeros(\n",
    "            source_layer.shape[0], device=source_layer.device\n",
    "        )\n",
    "        if variant == 'permute':\n",
    "            mapping = get_layer_perm(source_layer, target_layer)\n",
    "            permute_output(mapping, target_feats[i])\n",
    "            layer2ignored_feats[source_layer]['output_ignore'] = torch.zeros(\n",
    "                source_layer.shape[0], device=source_layer.device\n",
    "            )\n",
    "        elif variant == 'bipartite':\n",
    "            mapping, total_matched = get_layer_bipartite(source_layer, target_layer)\n",
    "            bipartite_output(mapping, target_feats[i])\n",
    "            layer2ignored_feats[source_layer]['output_ignore'] = total_matched.reshape(-1)\n",
    "            \n",
    "        next_layer = None\n",
    "        for j in range(i+1, n):\n",
    "            if isinstance(source_feats[j], nn.Conv2d):\n",
    "                next_layer = target_feats[j]\n",
    "                break\n",
    "            if next_layer is None:\n",
    "                next_layer = target_feats[j]\n",
    "            \n",
    "            if variant == 'permute':\n",
    "                permute_input(mapping, next_layer)\n",
    "                layer2ignored_feats[next_layer]['input_ignore'] = torch.zeros(\n",
    "                next_layer.shape[1], device=next_layer.device\n",
    "            )\n",
    "            elif variant == 'bipartite':\n",
    "                bipartite_input(mapping, next_layer)\n",
    "                layer2ignored_feats[next_layer]['input_ignore'] = total_matched.reshape(-1)\n",
    "    return layer2ignored_feats\n",
    "        "
   ]
  },
  {
   "cell_type": "code",
   "execution_count": 103,
   "id": "d9d80635",
   "metadata": {},
   "outputs": [
    {
     "data": {
      "text/plain": [
       "Conv2d(3, 64, kernel_size=(3, 3), stride=(1, 1), padding=(1, 1))"
      ]
     },
     "execution_count": 103,
     "metadata": {},
     "output_type": "execute_result"
    }
   ],
   "source": [
    "[i for i in feats1.children() if hasattr(i, 'weight')][0]"
   ]
  },
  {
   "cell_type": "code",
   "execution_count": null,
   "id": "cf89a2be",
   "metadata": {},
   "outputs": [],
   "source": [
    "permuted_layer2ignored_feats = align_target_to_source(\n",
    "    \n",
    ")"
   ]
  },
  {
   "cell_type": "code",
   "execution_count": 63,
   "id": "ea19dae0",
   "metadata": {},
   "outputs": [
    {
     "name": "stderr",
     "output_type": "stream",
     "text": [
      "\n",
      "  0%|                                                                                               | 0/100 [00:00<?, ?it/s]\u001b[A\n",
      "  0%|                                                                                                | 0/11 [10:54<?, ?it/s]\u001b[A\n",
      "  0%|                                                                                                | 0/11 [09:36<?, ?it/s]\n",
      "  0%|                                                                                                | 0/11 [05:17<?, ?it/s]\n",
      "  0%|                                                                                                | 0/11 [04:13<?, ?it/s]\n",
      "  0%|                                                                                                | 0/11 [10:54<?, ?it/s]\n",
      "\n",
      "  0%|                                                                                                | 0/11 [09:36<?, ?it/s]\u001b[A\n",
      "  0%|                                                                                                | 0/11 [05:17<?, ?it/s]\n",
      "  0%|                                                                                                | 0/11 [10:54<?, ?it/s]\n",
      "  0%|                                                                                                | 0/11 [09:36<?, ?it/s]\n",
      "  0%|                                                                                                | 0/11 [04:13<?, ?it/s]\n",
      "  0%|                                                                                                | 0/11 [05:17<?, ?it/s]\n",
      "  0%|                                                                                                | 0/11 [04:13<?, ?it/s]\n",
      "  0%|                                                                                                | 0/11 [10:54<?, ?it/s]\n",
      "  0%|                                                                                                | 0/11 [09:36<?, ?it/s]\n",
      "  0%|                                                                                                | 0/11 [10:54<?, ?it/s]\n",
      "  0%|                                                                                                | 0/11 [05:17<?, ?it/s]\n",
      "  0%|                                                                                                | 0/11 [04:13<?, ?it/s]\n",
      "  0%|                                                                                                | 0/11 [10:54<?, ?it/s]\n",
      "  0%|                                                                                                | 0/11 [09:36<?, ?it/s]\n",
      "  0%|                                                                                                | 0/11 [10:54<?, ?it/s]\n",
      "\n",
      "  0%|                                                                                                | 0/11 [10:54<?, ?it/s]\u001b[A\n",
      "  0%|                                                                                                | 0/11 [09:36<?, ?it/s]\n",
      "  0%|                                                                                                | 0/11 [05:17<?, ?it/s]\n",
      "  0%|                                                                                                | 0/11 [09:36<?, ?it/s]\n",
      "  0%|                                                                                                | 0/11 [05:17<?, ?it/s]\n",
      "  0%|                                                                                                | 0/11 [05:17<?, ?it/s]\n",
      "  0%|                                                                                                | 0/11 [04:13<?, ?it/s]\n",
      "  0%|                                                                                                | 0/11 [09:36<?, ?it/s]\n",
      "  0%|                                                                                                | 0/11 [04:13<?, ?it/s]\n",
      "  0%|                                                                                                | 0/11 [05:17<?, ?it/s]\n",
      "  0%|                                                                                                | 0/11 [04:13<?, ?it/s]\n",
      "  0%|                                                                                                | 0/11 [04:13<?, ?it/s]\n",
      "\n",
      " 13%|███████████▏                                                                          | 13/100 [00:01<00:08, 10.52it/s]\u001b[A\n",
      " 18%|███████████████▍                                                                      | 18/100 [00:01<00:05, 16.17it/s]\u001b[A\n",
      " 22%|██████████████████▉                                                                   | 22/100 [00:02<00:03, 19.89it/s]\u001b[A\n",
      " 28%|████████████████████████                                                              | 28/100 [00:02<00:02, 26.25it/s]\u001b[A\n",
      " 32%|███████████████████████████▌                                                          | 32/100 [00:02<00:02, 27.22it/s]\u001b[A\n",
      " 37%|███████████████████████████████▊                                                      | 37/100 [00:02<00:01, 31.57it/s]\u001b[A\n",
      " 42%|████████████████████████████████████                                                  | 42/100 [00:02<00:01, 35.26it/s]\u001b[A\n",
      " 47%|████████████████████████████████████████▍                                             | 47/100 [00:02<00:01, 35.57it/s]\u001b[A\n",
      " 53%|█████████████████████████████████████████████▌                                        | 53/100 [00:02<00:01, 38.05it/s]\u001b[A\n",
      " 58%|█████████████████████████████████████████████████▉                                    | 58/100 [00:02<00:01, 37.80it/s]\u001b[A\n",
      " 63%|██████████████████████████████████████████████████████▏                               | 63/100 [00:03<00:00, 39.96it/s]\u001b[A\n",
      " 68%|██████████████████████████████████████████████████████████▍                           | 68/100 [00:03<00:00, 36.95it/s]\u001b[A\n",
      " 74%|███████████████████████████████████████████████████████████████▋                      | 74/100 [00:03<00:00, 39.18it/s]\u001b[A\n",
      " 79%|███████████████████████████████████████████████████████████████████▉                  | 79/100 [00:03<00:00, 37.69it/s]\u001b[A\n",
      " 84%|████████████████████████████████████████████████████████████████████████▏             | 84/100 [00:03<00:00, 39.02it/s]\u001b[A\n",
      " 89%|████████████████████████████████████████████████████████████████████████████▌         | 89/100 [00:03<00:00, 40.23it/s]\u001b[A\n",
      " 94%|████████████████████████████████████████████████████████████████████████████████▊     | 94/100 [00:03<00:00, 38.94it/s]\u001b[A\n",
      "100%|█████████████████████████████████████████████████████████████████████████████████████| 100/100 [00:04<00:00, 24.09it/s]\u001b[A\n",
      "\n",
      "  0%|                                                                                               | 0/100 [00:00<?, ?it/s]\u001b[A\n",
      "  1%|▊                                                                                      | 1/100 [00:01<02:22,  1.44s/it]\u001b[A\n",
      "  0%|                                                                                                | 0/11 [10:58<?, ?it/s]\u001b[A\n",
      "  0%|                                                                                                | 0/11 [09:40<?, ?it/s]\n",
      "  0%|                                                                                                | 0/11 [05:21<?, ?it/s]\n",
      "  0%|                                                                                                | 0/11 [10:58<?, ?it/s]\n",
      "  0%|                                                                                                | 0/11 [10:58<?, ?it/s]\n",
      "  0%|                                                                                                | 0/11 [10:58<?, ?it/s]\n",
      "  0%|                                                                                                | 0/11 [04:17<?, ?it/s]\n",
      "  0%|                                                                                                | 0/11 [10:58<?, ?it/s]\n",
      "  0%|                                                                                                | 0/11 [09:40<?, ?it/s]\n",
      "  0%|                                                                                                | 0/11 [10:58<?, ?it/s]\n",
      "  0%|                                                                                                | 0/11 [09:40<?, ?it/s]\n"
     ]
    },
    {
     "name": "stderr",
     "output_type": "stream",
     "text": [
      "  0%|                                                                                                | 0/11 [09:40<?, ?it/s]\n",
      "  0%|                                                                                                | 0/11 [09:40<?, ?it/s]\n",
      "  0%|                                                                                                | 0/11 [10:58<?, ?it/s]\n",
      "  0%|                                                                                                | 0/11 [10:58<?, ?it/s]\n",
      "  0%|                                                                                                | 0/11 [05:21<?, ?it/s]\n",
      "  0%|                                                                                                | 0/11 [05:21<?, ?it/s]\n",
      "  0%|                                                                                                | 0/11 [05:21<?, ?it/s]\n",
      "  0%|                                                                                                | 0/11 [09:40<?, ?it/s]\n",
      "  0%|                                                                                                | 0/11 [09:40<?, ?it/s]\n",
      "  0%|                                                                                                | 0/11 [05:21<?, ?it/s]\n",
      "  0%|                                                                                                | 0/11 [09:40<?, ?it/s]\n",
      "  0%|                                                                                                | 0/11 [04:18<?, ?it/s]\n",
      "  0%|                                                                                                | 0/11 [04:18<?, ?it/s]\n",
      "  0%|                                                                                                | 0/11 [04:18<?, ?it/s]\n",
      "  0%|                                                                                                | 0/11 [05:21<?, ?it/s]\n",
      "  0%|                                                                                                | 0/11 [05:21<?, ?it/s]\n",
      "  0%|                                                                                                | 0/11 [04:18<?, ?it/s]\n",
      "  0%|                                                                                                | 0/11 [05:21<?, ?it/s]\n",
      "  0%|                                                                                                | 0/11 [04:18<?, ?it/s]\n",
      "  0%|                                                                                                | 0/11 [04:18<?, ?it/s]\n",
      "\n",
      "  0%|                                                                                                | 0/11 [04:18<?, ?it/s]\u001b[A\n",
      "\n",
      " 13%|███████████▏                                                                          | 13/100 [00:01<00:07, 11.00it/s]\u001b[A\n",
      " 18%|███████████████▍                                                                      | 18/100 [00:02<00:04, 16.55it/s]\u001b[A\n",
      " 23%|███████████████████▊                                                                  | 23/100 [00:02<00:03, 22.00it/s]\u001b[A\n",
      " 27%|███████████████████████▏                                                              | 27/100 [00:02<00:03, 23.97it/s]\u001b[A\n",
      " 32%|███████████████████████████▌                                                          | 32/100 [00:02<00:02, 25.17it/s]\u001b[A\n",
      " 36%|██████████████████████████████▉                                                       | 36/100 [00:02<00:02, 28.03it/s]\u001b[A\n",
      " 41%|███████████████████████████████████▎                                                  | 41/100 [00:02<00:01, 32.06it/s]\u001b[A\n",
      " 47%|████████████████████████████████████████▍                                             | 47/100 [00:02<00:01, 37.23it/s]\u001b[A\n",
      " 52%|████████████████████████████████████████████▋                                         | 52/100 [00:02<00:01, 36.27it/s]\u001b[A\n",
      " 57%|█████████████████████████████████████████████████                                     | 57/100 [00:03<00:01, 37.25it/s]\u001b[A\n",
      " 62%|█████████████████████████████████████████████████████▎                                | 62/100 [00:03<00:01, 37.84it/s]\u001b[A\n",
      " 67%|█████████████████████████████████████████████████████████▌                            | 67/100 [00:03<00:00, 39.75it/s]\u001b[A\n",
      " 72%|█████████████████████████████████████████████████████████████▉                        | 72/100 [00:03<00:00, 40.98it/s]\u001b[A\n",
      " 77%|██████████████████████████████████████████████████████████████████▏                   | 77/100 [00:03<00:00, 36.77it/s]\u001b[A\n",
      " 82%|██████████████████████████████████████████████████████████████████████▌               | 82/100 [00:03<00:00, 33.75it/s]\u001b[A\n",
      " 87%|██████████████████████████████████████████████████████████████████████████▊           | 87/100 [00:03<00:00, 36.72it/s]\u001b[A\n",
      " 92%|███████████████████████████████████████████████████████████████████████████████       | 92/100 [00:03<00:00, 38.18it/s]\u001b[A\n",
      "100%|█████████████████████████████████████████████████████████████████████████████████████| 100/100 [00:04<00:00, 23.78it/s]\u001b[A\n"
     ]
    }
   ],
   "source": [
    "feats1 = model1.features\n",
    "feats_permute = model_permute.features\n",
    "feats_bipartite = model_bipartite.features\n",
    "\n",
    "n = len(feats1)\n",
    "for i in range(n):\n",
    "    if not isinstance(feats1[i], nn.Conv2d):\n",
    "        continue\n",
    "    \n",
    "    # permute the outputs of the current conv layer\n",
    "    assert isinstance(feats1[i+1], nn.ReLU)\n",
    "    first_conv_perm_map = get_layer_perm(subnet(model0, i+2), subnet(model_permute, i+2))\n",
    "    first_conv_bipartite_map, bipartite_collapsed = get_layer_bipartite(\n",
    "        subnet(model0, i+2), subnet(model_bipartite, i+2)\n",
    "    )\n",
    "    permute_output(first_conv_perm_map, feats_permute[i])\n",
    "    bipartite_output(first_conv_bipartite_map, feats_bipartite[i])\n",
    "    break"
   ]
  },
  {
   "cell_type": "code",
   "execution_count": 55,
   "id": "cfd778a2",
   "metadata": {},
   "outputs": [],
   "source": [
    "save_model(model_permute, 'vgg11_v2_perm1_FirstLayer')\n",
    "save_model(model_bipartite, 'vgg11_v2_bipartite_FirstLayer')"
   ]
  },
  {
   "cell_type": "code",
   "execution_count": 56,
   "id": "3c435e2d",
   "metadata": {},
   "outputs": [
    {
     "data": {
      "text/plain": [
       "tensor([ 0,  1,  2,  3,  4,  5,  6,  7,  8,  9, 10, 11, 12, 13, 14, 15, 16, 17,\n",
       "        18, 19, 20, 21, 22, 23, 24, 25, 26, 27, 28, 29, 30, 31, 32, 33, 34, 35,\n",
       "        36, 37, 38, 39, 40, 41, 42, 43, 44, 45, 46, 47, 48, 49, 50, 51, 52, 53,\n",
       "        54, 55, 56, 57, 58, 59, 60, 61, 62, 63])"
      ]
     },
     "execution_count": 56,
     "metadata": {},
     "output_type": "execute_result"
    }
   ],
   "source": [
    "first_conv_perm_map"
   ]
  },
  {
   "cell_type": "code",
   "execution_count": 57,
   "id": "f9f5454b",
   "metadata": {},
   "outputs": [
    {
     "data": {
      "text/plain": [
       "array([0. , 0.5, 0. , 0. , 0. , 0. , 0. , 0. , 0. , 0. , 0. , 0. , 0. ,\n",
       "       0. , 0. , 0. , 0. , 0. , 0. , 0. , 0. , 0. , 0. , 0. , 0. , 0. ,\n",
       "       0. , 0. , 0. , 0. , 0. , 0. , 0. , 0. , 0. , 0. , 0. , 0. , 0. ,\n",
       "       0. , 0. , 0. , 0. , 0. , 0. , 0. , 0. , 0. , 0. , 0. , 0. , 0. ,\n",
       "       0. , 0. , 0. , 0. , 0. , 0. , 0. , 0. , 0. , 0. , 0. , 0. ],\n",
       "      dtype=float32)"
      ]
     },
     "execution_count": 57,
     "metadata": {},
     "output_type": "execute_result"
    }
   ],
   "source": [
    "first_conv_bipartite_map.cpu().numpy()[:, 1]"
   ]
  },
  {
   "cell_type": "code",
   "execution_count": 58,
   "id": "cbae2b30",
   "metadata": {},
   "outputs": [
    {
     "data": {
      "text/plain": [
       "array([0., 1., 0., 0., 0., 0., 0., 0., 0., 0., 0., 0., 0., 0., 0., 0., 0.,\n",
       "       0., 0., 0., 0., 0., 0., 0., 0., 0., 0., 0., 0., 0., 0., 0., 0., 0.,\n",
       "       0., 0., 0., 0., 0., 0., 0., 0., 0., 0., 0., 0., 0., 0., 0., 0., 0.,\n",
       "       0., 0., 0., 0., 0., 0., 0., 0., 0., 0., 0., 0., 0.], dtype=float32)"
      ]
     },
     "execution_count": 58,
     "metadata": {},
     "output_type": "execute_result"
    }
   ],
   "source": [
    "torch.eye(64)[:, first_conv_perm_map].numpy()[:, 1]"
   ]
  },
  {
   "cell_type": "code",
   "execution_count": 59,
   "id": "89f47316",
   "metadata": {},
   "outputs": [],
   "source": [
    "def find_bipartite_selections(mapping):\n",
    "    position2selections = {}\n",
    "    for i in range(mapping.shape[1]):\n",
    "        elements = mapping[:, i].cpu().nonzero().flatten().numpy().tolist()\n",
    "        position2selections[i] = elements\n",
    "    return position2selections"
   ]
  },
  {
   "cell_type": "code",
   "execution_count": 60,
   "id": "d63e0a79",
   "metadata": {},
   "outputs": [
    {
     "name": "stdout",
     "output_type": "stream",
     "text": [
      "{0: [0, 7, 8, 11, 17, 20, 22, 23, 24, 26, 31, 32, 38, 41, 43, 44, 46, 58, 61, 62, 63], 1: [1], 2: [2], 3: [3], 4: [4], 5: [5], 6: [6], 7: [], 8: [], 9: [9], 10: [10], 11: [], 12: [12], 13: [13], 14: [14], 15: [15], 16: [16], 17: [], 18: [18], 19: [19], 20: [], 21: [21], 22: [], 23: [], 24: [], 25: [25], 26: [], 27: [27], 28: [28], 29: [29], 30: [30], 31: [], 32: [], 33: [33], 34: [34], 35: [35], 36: [36], 37: [37], 38: [], 39: [39], 40: [40], 41: [], 42: [42], 43: [], 44: [], 45: [45], 46: [], 47: [47], 48: [48], 49: [49], 50: [50], 51: [51], 52: [52], 53: [53], 54: [54], 55: [55], 56: [56], 57: [57], 58: [], 59: [59], 60: [60], 61: [], 62: [], 63: []}\n"
     ]
    }
   ],
   "source": [
    "print(find_bipartite_selections(first_conv_bipartite_map))"
   ]
  },
  {
   "cell_type": "code",
   "execution_count": 61,
   "id": "4642c0c5",
   "metadata": {},
   "outputs": [
    {
     "name": "stdout",
     "output_type": "stream",
     "text": [
      "{0: 0, 1: 1, 2: 2, 3: 3, 4: 4, 5: 5, 6: 6, 7: 7, 8: 8, 9: 9, 10: 10, 11: 11, 12: 12, 13: 13, 14: 14, 15: 15, 16: 16, 17: 17, 18: 18, 19: 19, 20: 20, 21: 21, 22: 22, 23: 23, 24: 24, 25: 25, 26: 26, 27: 27, 28: 28, 29: 29, 30: 30, 31: 31, 32: 32, 33: 33, 34: 34, 35: 35, 36: 36, 37: 37, 38: 38, 39: 39, 40: 40, 41: 41, 42: 42, 43: 43, 44: 44, 45: 45, 46: 46, 47: 47, 48: 48, 49: 49, 50: 50, 51: 51, 52: 52, 53: 53, 54: 54, 55: 55, 56: 56, 57: 57, 58: 58, 59: 59, 60: 60, 61: 61, 62: 62, 63: 63}\n"
     ]
    }
   ],
   "source": [
    "print({i:j.numpy().tolist() for i, j in enumerate(first_conv_perm_map)})"
   ]
  },
  {
   "cell_type": "code",
   "execution_count": null,
   "id": "911d009e",
   "metadata": {},
   "outputs": [],
   "source": []
  },
  {
   "cell_type": "code",
   "execution_count": 65,
   "id": "c1a9e9f3",
   "metadata": {},
   "outputs": [],
   "source": []
  },
  {
   "cell_type": "code",
   "execution_count": 49,
   "id": "fcf016ee",
   "metadata": {},
   "outputs": [
    {
     "name": "stderr",
     "output_type": "stream",
     "text": [
      "\r",
      "  0%|                                                                                                | 0/11 [00:00<?, ?it/s]"
     ]
    },
    {
     "name": "stdout",
     "output_type": "stream",
     "text": [
      "> \u001b[0;32m/tmp/ipykernel_84134/2213140043.py\u001b[0m(15)\u001b[0;36mmix_weights\u001b[0;34m()\u001b[0m\n",
      "\u001b[0;32m     13 \u001b[0;31m            \u001b[0mparam0\u001b[0m \u001b[0;34m=\u001b[0m \u001b[0msd0\u001b[0m\u001b[0;34m[\u001b[0m\u001b[0mk\u001b[0m\u001b[0;34m]\u001b[0m\u001b[0;34m.\u001b[0m\u001b[0mcuda\u001b[0m\u001b[0;34m(\u001b[0m\u001b[0;34m)\u001b[0m\u001b[0;34m\u001b[0m\u001b[0;34m\u001b[0m\u001b[0m\n",
      "\u001b[0m\u001b[0;32m     14 \u001b[0;31m            \u001b[0mpdb\u001b[0m\u001b[0;34m.\u001b[0m\u001b[0mset_trace\u001b[0m\u001b[0;34m(\u001b[0m\u001b[0;34m)\u001b[0m\u001b[0;34m\u001b[0m\u001b[0;34m\u001b[0m\u001b[0m\n",
      "\u001b[0m\u001b[0;32m---> 15 \u001b[0;31m            \u001b[0mparam0\u001b[0m \u001b[0;34m=\u001b[0m \u001b[0mparam0\u001b[0m \u001b[0;34m/\u001b[0m \u001b[0;34m(\u001b[0m\u001b[0mbipartite_collapsed\u001b[0m\u001b[0;34m.\u001b[0m\u001b[0mview\u001b[0m\u001b[0;34m(\u001b[0m\u001b[0;34m-\u001b[0m\u001b[0;36m1\u001b[0m\u001b[0;34m,\u001b[0m\u001b[0;36m1\u001b[0m\u001b[0;34m,\u001b[0m\u001b[0;36m1\u001b[0m\u001b[0;34m,\u001b[0m\u001b[0;36m1\u001b[0m\u001b[0;34m)\u001b[0m \u001b[0;32mif\u001b[0m \u001b[0mlen\u001b[0m\u001b[0;34m(\u001b[0m\u001b[0mparam0\u001b[0m\u001b[0;34m.\u001b[0m\u001b[0mshape\u001b[0m\u001b[0;34m)\u001b[0m \u001b[0;34m==\u001b[0m \u001b[0;36m4\u001b[0m \u001b[0;32melse\u001b[0m \u001b[0mbipartite_collapsed\u001b[0m\u001b[0;34m)\u001b[0m\u001b[0;34m\u001b[0m\u001b[0;34m\u001b[0m\u001b[0m\n",
      "\u001b[0m\u001b[0;32m     16 \u001b[0;31m            \u001b[0msd_alpha\u001b[0m\u001b[0;34m[\u001b[0m\u001b[0mk\u001b[0m\u001b[0;34m]\u001b[0m \u001b[0;34m=\u001b[0m \u001b[0;34m(\u001b[0m\u001b[0;36m1\u001b[0m \u001b[0;34m-\u001b[0m \u001b[0malpha\u001b[0m\u001b[0;34m)\u001b[0m \u001b[0;34m*\u001b[0m \u001b[0msd0\u001b[0m\u001b[0;34m[\u001b[0m\u001b[0mk\u001b[0m\u001b[0;34m]\u001b[0m\u001b[0;34m.\u001b[0m\u001b[0mcuda\u001b[0m\u001b[0;34m(\u001b[0m\u001b[0;34m)\u001b[0m \u001b[0;34m+\u001b[0m \u001b[0malpha\u001b[0m \u001b[0;34m*\u001b[0m \u001b[0msd1\u001b[0m\u001b[0;34m[\u001b[0m\u001b[0mk\u001b[0m\u001b[0;34m]\u001b[0m\u001b[0;34m.\u001b[0m\u001b[0mcuda\u001b[0m\u001b[0;34m(\u001b[0m\u001b[0;34m)\u001b[0m\u001b[0;34m\u001b[0m\u001b[0;34m\u001b[0m\u001b[0m\n",
      "\u001b[0m\u001b[0;32m     17 \u001b[0;31m            \u001b[0msd_alpha\u001b[0m\u001b[0;34m[\u001b[0m\u001b[0mk\u001b[0m\u001b[0;34m]\u001b[0m\u001b[0;34m[\u001b[0m\u001b[0mbipartite_collapsed\u001b[0m \u001b[0;34m==\u001b[0m \u001b[0;36m1.\u001b[0m\u001b[0;34m]\u001b[0m \u001b[0;34m=\u001b[0m \u001b[0msd0\u001b[0m\u001b[0;34m[\u001b[0m\u001b[0mk\u001b[0m\u001b[0;34m]\u001b[0m\u001b[0;34m.\u001b[0m\u001b[0mcuda\u001b[0m\u001b[0;34m(\u001b[0m\u001b[0;34m)\u001b[0m\u001b[0;34m\u001b[0m\u001b[0;34m\u001b[0m\u001b[0m\n",
      "\u001b[0m\n",
      "ipdb> bipartite_collapsed\n",
      "tensor([[1., 2., 1., 2., 1., 2., 2., 1., 1., 1., 1., 1., 1., 1., 1., 1., 1., 1.,\n",
      "         2., 1., 1., 1., 1., 1., 1., 1., 1., 4., 1., 2., 1., 1., 1., 3., 1., 1.,\n",
      "         1., 1., 1., 1., 2., 1., 2., 1., 1., 1., 1., 1., 1., 1., 2., 1., 1., 1.,\n",
      "         1., 1., 2., 5., 1., 1., 2., 1., 1., 1.]], device='cuda:0')\n",
      "ipdb> n\n",
      "> \u001b[0;32m/tmp/ipykernel_84134/2213140043.py\u001b[0m(16)\u001b[0;36mmix_weights\u001b[0;34m()\u001b[0m\n",
      "\u001b[0;32m     14 \u001b[0;31m            \u001b[0mpdb\u001b[0m\u001b[0;34m.\u001b[0m\u001b[0mset_trace\u001b[0m\u001b[0;34m(\u001b[0m\u001b[0;34m)\u001b[0m\u001b[0;34m\u001b[0m\u001b[0;34m\u001b[0m\u001b[0m\n",
      "\u001b[0m\u001b[0;32m     15 \u001b[0;31m            \u001b[0mparam0\u001b[0m \u001b[0;34m=\u001b[0m \u001b[0mparam0\u001b[0m \u001b[0;34m/\u001b[0m \u001b[0;34m(\u001b[0m\u001b[0mbipartite_collapsed\u001b[0m\u001b[0;34m.\u001b[0m\u001b[0mview\u001b[0m\u001b[0;34m(\u001b[0m\u001b[0;34m-\u001b[0m\u001b[0;36m1\u001b[0m\u001b[0;34m,\u001b[0m\u001b[0;36m1\u001b[0m\u001b[0;34m,\u001b[0m\u001b[0;36m1\u001b[0m\u001b[0;34m,\u001b[0m\u001b[0;36m1\u001b[0m\u001b[0;34m)\u001b[0m \u001b[0;32mif\u001b[0m \u001b[0mlen\u001b[0m\u001b[0;34m(\u001b[0m\u001b[0mparam0\u001b[0m\u001b[0;34m.\u001b[0m\u001b[0mshape\u001b[0m\u001b[0;34m)\u001b[0m \u001b[0;34m==\u001b[0m \u001b[0;36m4\u001b[0m \u001b[0;32melse\u001b[0m \u001b[0mbipartite_collapsed\u001b[0m\u001b[0;34m)\u001b[0m\u001b[0;34m\u001b[0m\u001b[0;34m\u001b[0m\u001b[0m\n",
      "\u001b[0m\u001b[0;32m---> 16 \u001b[0;31m            \u001b[0msd_alpha\u001b[0m\u001b[0;34m[\u001b[0m\u001b[0mk\u001b[0m\u001b[0;34m]\u001b[0m \u001b[0;34m=\u001b[0m \u001b[0;34m(\u001b[0m\u001b[0;36m1\u001b[0m \u001b[0;34m-\u001b[0m \u001b[0malpha\u001b[0m\u001b[0;34m)\u001b[0m \u001b[0;34m*\u001b[0m \u001b[0msd0\u001b[0m\u001b[0;34m[\u001b[0m\u001b[0mk\u001b[0m\u001b[0;34m]\u001b[0m\u001b[0;34m.\u001b[0m\u001b[0mcuda\u001b[0m\u001b[0;34m(\u001b[0m\u001b[0;34m)\u001b[0m \u001b[0;34m+\u001b[0m \u001b[0malpha\u001b[0m \u001b[0;34m*\u001b[0m \u001b[0msd1\u001b[0m\u001b[0;34m[\u001b[0m\u001b[0mk\u001b[0m\u001b[0;34m]\u001b[0m\u001b[0;34m.\u001b[0m\u001b[0mcuda\u001b[0m\u001b[0;34m(\u001b[0m\u001b[0;34m)\u001b[0m\u001b[0;34m\u001b[0m\u001b[0;34m\u001b[0m\u001b[0m\n",
      "\u001b[0m\u001b[0;32m     17 \u001b[0;31m            \u001b[0msd_alpha\u001b[0m\u001b[0;34m[\u001b[0m\u001b[0mk\u001b[0m\u001b[0;34m]\u001b[0m\u001b[0;34m[\u001b[0m\u001b[0mbipartite_collapsed\u001b[0m \u001b[0;34m==\u001b[0m \u001b[0;36m1.\u001b[0m\u001b[0;34m]\u001b[0m \u001b[0;34m=\u001b[0m \u001b[0msd0\u001b[0m\u001b[0;34m[\u001b[0m\u001b[0mk\u001b[0m\u001b[0;34m]\u001b[0m\u001b[0;34m.\u001b[0m\u001b[0mcuda\u001b[0m\u001b[0;34m(\u001b[0m\u001b[0;34m)\u001b[0m\u001b[0;34m\u001b[0m\u001b[0;34m\u001b[0m\u001b[0m\n",
      "\u001b[0m\u001b[0;32m     18 \u001b[0;31m        \u001b[0;32melif\u001b[0m \u001b[0malpha\u001b[0m \u001b[0;34m<=\u001b[0m \u001b[0;36m.5\u001b[0m\u001b[0;34m:\u001b[0m\u001b[0;34m\u001b[0m\u001b[0;34m\u001b[0m\u001b[0m\n",
      "\u001b[0m\n",
      "ipdb> param0.shape\n",
      "torch.Size([64, 3, 3, 3])\n",
      "ipdb> n\n",
      "> \u001b[0;32m/tmp/ipykernel_84134/2213140043.py\u001b[0m(17)\u001b[0;36mmix_weights\u001b[0;34m()\u001b[0m\n",
      "\u001b[0;32m     15 \u001b[0;31m            \u001b[0mparam0\u001b[0m \u001b[0;34m=\u001b[0m \u001b[0mparam0\u001b[0m \u001b[0;34m/\u001b[0m \u001b[0;34m(\u001b[0m\u001b[0mbipartite_collapsed\u001b[0m\u001b[0;34m.\u001b[0m\u001b[0mview\u001b[0m\u001b[0;34m(\u001b[0m\u001b[0;34m-\u001b[0m\u001b[0;36m1\u001b[0m\u001b[0;34m,\u001b[0m\u001b[0;36m1\u001b[0m\u001b[0;34m,\u001b[0m\u001b[0;36m1\u001b[0m\u001b[0;34m,\u001b[0m\u001b[0;36m1\u001b[0m\u001b[0;34m)\u001b[0m \u001b[0;32mif\u001b[0m \u001b[0mlen\u001b[0m\u001b[0;34m(\u001b[0m\u001b[0mparam0\u001b[0m\u001b[0;34m.\u001b[0m\u001b[0mshape\u001b[0m\u001b[0;34m)\u001b[0m \u001b[0;34m==\u001b[0m \u001b[0;36m4\u001b[0m \u001b[0;32melse\u001b[0m \u001b[0mbipartite_collapsed\u001b[0m\u001b[0;34m)\u001b[0m\u001b[0;34m\u001b[0m\u001b[0;34m\u001b[0m\u001b[0m\n",
      "\u001b[0m\u001b[0;32m     16 \u001b[0;31m            \u001b[0msd_alpha\u001b[0m\u001b[0;34m[\u001b[0m\u001b[0mk\u001b[0m\u001b[0;34m]\u001b[0m \u001b[0;34m=\u001b[0m \u001b[0;34m(\u001b[0m\u001b[0;36m1\u001b[0m \u001b[0;34m-\u001b[0m \u001b[0malpha\u001b[0m\u001b[0;34m)\u001b[0m \u001b[0;34m*\u001b[0m \u001b[0msd0\u001b[0m\u001b[0;34m[\u001b[0m\u001b[0mk\u001b[0m\u001b[0;34m]\u001b[0m\u001b[0;34m.\u001b[0m\u001b[0mcuda\u001b[0m\u001b[0;34m(\u001b[0m\u001b[0;34m)\u001b[0m \u001b[0;34m+\u001b[0m \u001b[0malpha\u001b[0m \u001b[0;34m*\u001b[0m \u001b[0msd1\u001b[0m\u001b[0;34m[\u001b[0m\u001b[0mk\u001b[0m\u001b[0;34m]\u001b[0m\u001b[0;34m.\u001b[0m\u001b[0mcuda\u001b[0m\u001b[0;34m(\u001b[0m\u001b[0;34m)\u001b[0m\u001b[0;34m\u001b[0m\u001b[0;34m\u001b[0m\u001b[0m\n",
      "\u001b[0m\u001b[0;32m---> 17 \u001b[0;31m            \u001b[0msd_alpha\u001b[0m\u001b[0;34m[\u001b[0m\u001b[0mk\u001b[0m\u001b[0;34m]\u001b[0m\u001b[0;34m[\u001b[0m\u001b[0mbipartite_collapsed\u001b[0m \u001b[0;34m==\u001b[0m \u001b[0;36m1.\u001b[0m\u001b[0;34m]\u001b[0m \u001b[0;34m=\u001b[0m \u001b[0msd0\u001b[0m\u001b[0;34m[\u001b[0m\u001b[0mk\u001b[0m\u001b[0;34m]\u001b[0m\u001b[0;34m.\u001b[0m\u001b[0mcuda\u001b[0m\u001b[0;34m(\u001b[0m\u001b[0;34m)\u001b[0m\u001b[0;34m\u001b[0m\u001b[0;34m\u001b[0m\u001b[0m\n",
      "\u001b[0m\u001b[0;32m     18 \u001b[0;31m        \u001b[0;32melif\u001b[0m \u001b[0malpha\u001b[0m \u001b[0;34m<=\u001b[0m \u001b[0;36m.5\u001b[0m\u001b[0;34m:\u001b[0m\u001b[0;34m\u001b[0m\u001b[0;34m\u001b[0m\u001b[0m\n",
      "\u001b[0m\u001b[0;32m     19 \u001b[0;31m            \u001b[0msd_alpha\u001b[0m\u001b[0;34m[\u001b[0m\u001b[0mk\u001b[0m\u001b[0;34m]\u001b[0m \u001b[0;34m=\u001b[0m \u001b[0msd0\u001b[0m\u001b[0;34m[\u001b[0m\u001b[0mk\u001b[0m\u001b[0;34m]\u001b[0m\u001b[0;34m.\u001b[0m\u001b[0mcuda\u001b[0m\u001b[0;34m(\u001b[0m\u001b[0;34m)\u001b[0m\u001b[0;34m\u001b[0m\u001b[0;34m\u001b[0m\u001b[0m\n",
      "\u001b[0m\n",
      "ipdb> n\n",
      "IndexError: The shape of the mask [1, 64] at index 0 does not match the shape of the indexed tensor [64, 3, 3, 3] at index 0\n",
      "> \u001b[0;32m/tmp/ipykernel_84134/2213140043.py\u001b[0m(17)\u001b[0;36mmix_weights\u001b[0;34m()\u001b[0m\n",
      "\u001b[0;32m     15 \u001b[0;31m            \u001b[0mparam0\u001b[0m \u001b[0;34m=\u001b[0m \u001b[0mparam0\u001b[0m \u001b[0;34m/\u001b[0m \u001b[0;34m(\u001b[0m\u001b[0mbipartite_collapsed\u001b[0m\u001b[0;34m.\u001b[0m\u001b[0mview\u001b[0m\u001b[0;34m(\u001b[0m\u001b[0;34m-\u001b[0m\u001b[0;36m1\u001b[0m\u001b[0;34m,\u001b[0m\u001b[0;36m1\u001b[0m\u001b[0;34m,\u001b[0m\u001b[0;36m1\u001b[0m\u001b[0;34m,\u001b[0m\u001b[0;36m1\u001b[0m\u001b[0;34m)\u001b[0m \u001b[0;32mif\u001b[0m \u001b[0mlen\u001b[0m\u001b[0;34m(\u001b[0m\u001b[0mparam0\u001b[0m\u001b[0;34m.\u001b[0m\u001b[0mshape\u001b[0m\u001b[0;34m)\u001b[0m \u001b[0;34m==\u001b[0m \u001b[0;36m4\u001b[0m \u001b[0;32melse\u001b[0m \u001b[0mbipartite_collapsed\u001b[0m\u001b[0;34m)\u001b[0m\u001b[0;34m\u001b[0m\u001b[0;34m\u001b[0m\u001b[0m\n",
      "\u001b[0m\u001b[0;32m     16 \u001b[0;31m            \u001b[0msd_alpha\u001b[0m\u001b[0;34m[\u001b[0m\u001b[0mk\u001b[0m\u001b[0;34m]\u001b[0m \u001b[0;34m=\u001b[0m \u001b[0;34m(\u001b[0m\u001b[0;36m1\u001b[0m \u001b[0;34m-\u001b[0m \u001b[0malpha\u001b[0m\u001b[0;34m)\u001b[0m \u001b[0;34m*\u001b[0m \u001b[0msd0\u001b[0m\u001b[0;34m[\u001b[0m\u001b[0mk\u001b[0m\u001b[0;34m]\u001b[0m\u001b[0;34m.\u001b[0m\u001b[0mcuda\u001b[0m\u001b[0;34m(\u001b[0m\u001b[0;34m)\u001b[0m \u001b[0;34m+\u001b[0m \u001b[0malpha\u001b[0m \u001b[0;34m*\u001b[0m \u001b[0msd1\u001b[0m\u001b[0;34m[\u001b[0m\u001b[0mk\u001b[0m\u001b[0;34m]\u001b[0m\u001b[0;34m.\u001b[0m\u001b[0mcuda\u001b[0m\u001b[0;34m(\u001b[0m\u001b[0;34m)\u001b[0m\u001b[0;34m\u001b[0m\u001b[0;34m\u001b[0m\u001b[0m\n",
      "\u001b[0m\u001b[0;32m---> 17 \u001b[0;31m            \u001b[0msd_alpha\u001b[0m\u001b[0;34m[\u001b[0m\u001b[0mk\u001b[0m\u001b[0;34m]\u001b[0m\u001b[0;34m[\u001b[0m\u001b[0mbipartite_collapsed\u001b[0m \u001b[0;34m==\u001b[0m \u001b[0;36m1.\u001b[0m\u001b[0;34m]\u001b[0m \u001b[0;34m=\u001b[0m \u001b[0msd0\u001b[0m\u001b[0;34m[\u001b[0m\u001b[0mk\u001b[0m\u001b[0;34m]\u001b[0m\u001b[0;34m.\u001b[0m\u001b[0mcuda\u001b[0m\u001b[0;34m(\u001b[0m\u001b[0;34m)\u001b[0m\u001b[0;34m\u001b[0m\u001b[0;34m\u001b[0m\u001b[0m\n",
      "\u001b[0m\u001b[0;32m     18 \u001b[0;31m        \u001b[0;32melif\u001b[0m \u001b[0malpha\u001b[0m \u001b[0;34m<=\u001b[0m \u001b[0;36m.5\u001b[0m\u001b[0;34m:\u001b[0m\u001b[0;34m\u001b[0m\u001b[0;34m\u001b[0m\u001b[0m\n",
      "\u001b[0m\u001b[0;32m     19 \u001b[0;31m            \u001b[0msd_alpha\u001b[0m\u001b[0;34m[\u001b[0m\u001b[0mk\u001b[0m\u001b[0;34m]\u001b[0m \u001b[0;34m=\u001b[0m \u001b[0msd0\u001b[0m\u001b[0;34m[\u001b[0m\u001b[0mk\u001b[0m\u001b[0;34m]\u001b[0m\u001b[0;34m.\u001b[0m\u001b[0mcuda\u001b[0m\u001b[0;34m(\u001b[0m\u001b[0;34m)\u001b[0m\u001b[0;34m\u001b[0m\u001b[0;34m\u001b[0m\u001b[0m\n",
      "\u001b[0m\n",
      "ipdb> q\n"
     ]
    }
   ],
   "source": [
    "mixable_weights = ['features.0.weight', 'features.0.bias']\n",
    "alphas = np.arange(0, .505, .05)\n",
    "model_a = vgg11()\n",
    "bipartite_performances = [\n",
    "    get_post_alignment_performance(\n",
    "        model_a, \n",
    "        alpha, \n",
    "        k0='vgg11_v1', \n",
    "        k1='vgg11_v2_bipartite_FirstLayer', \n",
    "        mixable_weights=mixable_weights\n",
    "    ) for alpha in tqdm(alphas, position=0, leave=True)\n",
    "]\n",
    "\n",
    "# permuted_performances = [\n",
    "#     get_post_alignment_performance(\n",
    "#         model_a, \n",
    "#         alpha, \n",
    "#         k0='vgg11_v1', \n",
    "#         k1='vgg11_v2_perm1_FirstLayer', \n",
    "#         mixable_weights=mixable_weights\n",
    "#     ) for alpha in tqdm(alphas, position=0, leave=True)\n",
    "# ]\n",
    "\n",
    "plt.plot(alphas, bipartite_performances, 'blue', label='BiPartite')\n",
    "plt.plot(alphas, copy_permuted_performances, 'red', label='Permutation')\n",
    "plt.title('Performance Gap with Permutations')\n",
    "plt.xlabel('Mixing Alpha')\n",
    "plt.ylabel('Accuracy')\n",
    "plt.legend()\n",
    "plt.show()"
   ]
  },
  {
   "cell_type": "code",
   "execution_count": null,
   "id": "cc24276b",
   "metadata": {},
   "outputs": [],
   "source": []
  },
  {
   "cell_type": "code",
   "execution_count": null,
   "id": "b5948c39",
   "metadata": {},
   "outputs": [],
   "source": []
  },
  {
   "cell_type": "code",
   "execution_count": null,
   "id": "adb22f19",
   "metadata": {},
   "outputs": [],
   "source": []
  },
  {
   "cell_type": "code",
   "execution_count": null,
   "id": "c2771eae",
   "metadata": {},
   "outputs": [],
   "source": []
  },
  {
   "cell_type": "code",
   "execution_count": null,
   "id": "d6b78581",
   "metadata": {},
   "outputs": [],
   "source": []
  },
  {
   "cell_type": "code",
   "execution_count": null,
   "id": "e791ff76",
   "metadata": {},
   "outputs": [],
   "source": []
  }
 ],
 "metadata": {
  "kernelspec": {
   "display_name": "Python 3",
   "language": "python",
   "name": "python3"
  },
  "language_info": {
   "codemirror_mode": {
    "name": "ipython",
    "version": 3
   },
   "file_extension": ".py",
   "mimetype": "text/x-python",
   "name": "python",
   "nbconvert_exporter": "python",
   "pygments_lexer": "ipython3",
   "version": "3.7.13"
  }
 },
 "nbformat": 4,
 "nbformat_minor": 5
}
