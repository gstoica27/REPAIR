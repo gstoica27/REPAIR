{
 "cells": [
  {
   "cell_type": "markdown",
   "id": "9021242c",
   "metadata": {},
   "source": [
    "# Train-and-Permute-CIFAR10-ResNet20\n",
    "\n",
    "In the following notebook we train two standard 4x-width ResNet20s on CIFAR-10, and then generate a neuron-matching/permutation between the two models. Our permutation-search method matches neurons based on the correlation between their activations.\n",
    "\n",
    "We then interpolate between the two matched networks, and evaluate the accuracy+loss with and without resetting BatchNorm statistics."
   ]
  },
  {
   "cell_type": "code",
   "execution_count": 1,
   "id": "c0db779d",
   "metadata": {},
   "outputs": [
    {
     "name": "stderr",
     "output_type": "stream",
     "text": [
      "/srv/share/gstoica3/miniconda3/envs/open-mmlab/lib/python3.7/site-packages/tqdm/auto.py:22: TqdmWarning: IProgress not found. Please update jupyter and ipywidgets. See https://ipywidgets.readthedocs.io/en/stable/user_install.html\n",
      "  from .autonotebook import tqdm as notebook_tqdm\n"
     ]
    }
   ],
   "source": [
    "import os\n",
    "import sys\n",
    "\n",
    "from tqdm import tqdm\n",
    "import numpy as np\n",
    "import matplotlib.pyplot as plt\n",
    "import scipy.optimize\n",
    "\n",
    "import torch\n",
    "from torch import nn\n",
    "from torch.cuda.amp import GradScaler, autocast\n",
    "from torch.nn import CrossEntropyLoss\n",
    "from torch.optim import SGD, Adam, lr_scheduler\n",
    "import torchvision\n",
    "import torchvision.transforms as T"
   ]
  },
  {
   "cell_type": "markdown",
   "id": "fdf1a55e",
   "metadata": {},
   "source": [
    "# setup"
   ]
  },
  {
   "cell_type": "code",
   "execution_count": 2,
   "id": "c477d1e9",
   "metadata": {},
   "outputs": [],
   "source": [
    "def save_model(model, i):\n",
    "    sd = model.state_dict()\n",
    "    torch.save(model.state_dict(), '%s.pth.tar' % i)\n",
    "\n",
    "def load_model(model, i):\n",
    "    sd = torch.load('%s.pth.tar' % i)\n",
    "    model.load_state_dict(sd)"
   ]
  },
  {
   "cell_type": "code",
   "execution_count": 3,
   "id": "fabbc157",
   "metadata": {
    "scrolled": false
   },
   "outputs": [
    {
     "name": "stdout",
     "output_type": "stream",
     "text": [
      "Files already downloaded and verified\n",
      "Files already downloaded and verified\n"
     ]
    }
   ],
   "source": [
    "CIFAR_MEAN = [125.307, 122.961, 113.8575]\n",
    "CIFAR_STD = [51.5865, 50.847, 51.255]\n",
    "normalize = T.Normalize(np.array(CIFAR_MEAN)/255, np.array(CIFAR_STD)/255)\n",
    "denormalize = T.Normalize(-np.array(CIFAR_MEAN)/np.array(CIFAR_STD), 255/np.array(CIFAR_STD))\n",
    "\n",
    "train_transform = T.Compose([\n",
    "    T.RandomHorizontalFlip(),\n",
    "    T.RandomCrop(32, padding=4),\n",
    "    T.ToTensor(),\n",
    "    normalize,\n",
    "])\n",
    "test_transform = T.Compose([\n",
    "    T.ToTensor(),\n",
    "    normalize,\n",
    "])\n",
    "train_dset = torchvision.datasets.CIFAR10(root='/tmp', train=True,\n",
    "                                        download=True, transform=train_transform)\n",
    "test_dset = torchvision.datasets.CIFAR10(root='/tmp', train=False,\n",
    "                                        download=True, transform=test_transform)\n",
    "\n",
    "train_aug_loader = torch.utils.data.DataLoader(train_dset, batch_size=500, shuffle=True, num_workers=8)\n",
    "test_loader = torch.utils.data.DataLoader(test_dset, batch_size=500, shuffle=False, num_workers=8)"
   ]
  },
  {
   "cell_type": "code",
   "execution_count": 4,
   "id": "31e22780",
   "metadata": {},
   "outputs": [],
   "source": [
    "# evaluates accuracy\n",
    "def evaluate(model, loader=test_loader):\n",
    "    model.eval()\n",
    "    correct = 0\n",
    "    with torch.no_grad(), autocast():\n",
    "        for inputs, labels in loader:\n",
    "            outputs = model(inputs.cuda())\n",
    "            pred = outputs.argmax(dim=1)\n",
    "            correct += (labels.cuda() == pred).sum().item()\n",
    "    return correct\n",
    "\n",
    "# evaluates loss\n",
    "def evaluate1(model, loader=test_loader):\n",
    "    model.eval()\n",
    "    losses = []\n",
    "    with torch.no_grad(), autocast():\n",
    "        for inputs, labels in loader:\n",
    "            outputs = model(inputs.cuda())\n",
    "            loss = F.cross_entropy(outputs, labels.cuda())\n",
    "            losses.append(loss.item())\n",
    "    return np.array(losses).mean()"
   ]
  },
  {
   "cell_type": "code",
   "execution_count": 5,
   "id": "122fde94",
   "metadata": {},
   "outputs": [],
   "source": [
    "import torch.nn as nn\n",
    "import torch.nn.functional as F\n",
    "import torch.nn.init as init\n",
    "\n",
    "def _weights_init(m):\n",
    "    classname = m.__class__.__name__\n",
    "    if isinstance(m, nn.Linear) or isinstance(m, nn.Conv2d):\n",
    "        init.kaiming_normal_(m.weight)\n",
    "\n",
    "class LambdaLayer(nn.Module):\n",
    "    def __init__(self, lambd):\n",
    "        super(LambdaLayer, self).__init__()\n",
    "        self.lambd = lambd\n",
    "\n",
    "    def forward(self, x):\n",
    "        return self.lambd(x)\n",
    "\n",
    "\n",
    "class BasicBlock(nn.Module):\n",
    "    expansion = 1\n",
    "\n",
    "    def __init__(self, in_planes, planes, stride=1):\n",
    "        super(BasicBlock, self).__init__()\n",
    "        self.conv1 = nn.Conv2d(in_planes, planes, kernel_size=3, stride=stride, padding=1, bias=False)\n",
    "        self.bn1 = nn.BatchNorm2d(planes)\n",
    "        self.conv2 = nn.Conv2d(planes, planes, kernel_size=3, stride=1, padding=1, bias=False)\n",
    "        self.bn2 = nn.BatchNorm2d(planes)\n",
    "\n",
    "        self.shortcut = nn.Sequential()\n",
    "        if stride != 1 or in_planes != planes:\n",
    "#             self.shortcut = LambdaLayer(lambda x:\n",
    "#                                         F.pad(x[:, :, ::2, ::2], (0, 0, 0, 0, planes//4, planes//4), \"constant\", 0))\n",
    "            self.shortcut = nn.Sequential(\n",
    "                nn.Conv2d(in_planes, planes, kernel_size=3, stride=stride, padding=1, bias=False),\n",
    "                nn.BatchNorm2d(planes)\n",
    "            )\n",
    "\n",
    "\n",
    "    def forward(self, x):\n",
    "        out = F.relu(self.bn1(self.conv1(x)))\n",
    "        out = self.bn2(self.conv2(out))\n",
    "        out += self.shortcut(x)\n",
    "        out = F.relu(out)\n",
    "        return out\n",
    "\n",
    "\n",
    "class ResNet(nn.Module):\n",
    "    def __init__(self, block, num_blocks, w=1, num_classes=10):\n",
    "        super(ResNet, self).__init__()\n",
    "        self.in_planes = w*16\n",
    "\n",
    "        self.conv1 = nn.Conv2d(3, w*16, kernel_size=3, stride=1, padding=1, bias=False)\n",
    "        self.bn1 = nn.BatchNorm2d(w*16)\n",
    "        self.layer1 = self._make_layer(block, w*16, num_blocks[0], stride=1)\n",
    "        self.layer2 = self._make_layer(block, w*32, num_blocks[1], stride=2)\n",
    "        self.layer3 = self._make_layer(block, w*64, num_blocks[2], stride=2)\n",
    "        self.linear = nn.Linear(w*64, num_classes)\n",
    "\n",
    "        self.apply(_weights_init)\n",
    "\n",
    "    def _make_layer(self, block, planes, num_blocks, stride):\n",
    "        strides = [stride] + [1]*(num_blocks-1)\n",
    "        layers = []\n",
    "        for stride in strides:\n",
    "            layers.append(block(self.in_planes, planes, stride))\n",
    "            self.in_planes = planes * block.expansion\n",
    "\n",
    "        return nn.Sequential(*layers)\n",
    "\n",
    "    def forward(self, x):\n",
    "        out = F.relu(self.bn1(self.conv1(x)))\n",
    "        out = self.layer1(out)\n",
    "        out = self.layer2(out)\n",
    "        out = self.layer3(out)\n",
    "        out = F.avg_pool2d(out, out.size()[3])\n",
    "        out = out.view(out.size(0), -1)\n",
    "        out = self.linear(out)\n",
    "        return out\n",
    "\n",
    "\n",
    "def resnet20(w=1):\n",
    "    return ResNet(BasicBlock, [3, 3, 3], w=w)"
   ]
  },
  {
   "cell_type": "markdown",
   "id": "e42cdbf3",
   "metadata": {},
   "source": [
    "## Train and save two models"
   ]
  },
  {
   "cell_type": "code",
   "execution_count": 6,
   "id": "b3222c64",
   "metadata": {},
   "outputs": [],
   "source": [
    "def train(save_key):\n",
    "    model = resnet20(w=4).cuda()\n",
    "    optimizer = SGD(model.parameters(), lr=0.4, momentum=0.9, weight_decay=5e-4)\n",
    "    # optimizer = Adam(model.parameters(), lr=0.05)\n",
    "    \n",
    "    # Adam seems to perform worse than SGD for training ResNets on CIFAR-10.\n",
    "    # To make Adam work, we find that we need a very high learning rate: 0.05 (50x the default)\n",
    "    # At this LR, Adam gives 1.0-1.5% worse accuracy than SGD.\n",
    "    \n",
    "    # It is not yet clear whether the increased interpolation barrier for Adam-trained networks\n",
    "    # is simply due to the increased test loss of said networks relative to those trained with SGD.\n",
    "    # We include the option of using Adam in this notebook to explore this question.\n",
    "\n",
    "    EPOCHS = 100\n",
    "    ne_iters = len(train_aug_loader)\n",
    "    lr_schedule = np.interp(np.arange(1+EPOCHS*ne_iters), [0, 5*ne_iters, EPOCHS*ne_iters], [0, 1, 0])\n",
    "    scheduler = lr_scheduler.LambdaLR(optimizer, lr_schedule.__getitem__)\n",
    "\n",
    "    scaler = GradScaler()\n",
    "    loss_fn = CrossEntropyLoss()\n",
    "    \n",
    "    losses = []\n",
    "    for _ in tqdm(range(EPOCHS)):\n",
    "        for i, (inputs, labels) in enumerate(train_aug_loader):\n",
    "            optimizer.zero_grad(set_to_none=True)\n",
    "            with autocast():\n",
    "                outputs = model(inputs.cuda())\n",
    "                loss = loss_fn(outputs, labels.cuda())\n",
    "            scaler.scale(loss).backward()\n",
    "            scaler.step(optimizer)\n",
    "            scaler.update()\n",
    "            scheduler.step()\n",
    "            losses.append(loss.item())\n",
    "    print(evaluate(model))\n",
    "    save_model(model, save_key)"
   ]
  },
  {
   "cell_type": "code",
   "execution_count": 7,
   "id": "48eed56c",
   "metadata": {},
   "outputs": [
    {
     "name": "stderr",
     "output_type": "stream",
     "text": [
      "100%|███████████████████████████████████████████████| 100/100 [15:03<00:00,  9.04s/it]\n"
     ]
    },
    {
     "name": "stdout",
     "output_type": "stream",
     "text": [
      "9509\n"
     ]
    },
    {
     "name": "stderr",
     "output_type": "stream",
     "text": [
      "100%|███████████████████████████████████████████████| 100/100 [14:34<00:00,  8.74s/it]\n"
     ]
    },
    {
     "name": "stdout",
     "output_type": "stream",
     "text": [
      "9532\n"
     ]
    }
   ],
   "source": [
    "train('resnet20x4_v1')\n",
    "train('resnet20x4_v2')"
   ]
  },
  {
   "cell_type": "markdown",
   "id": "a25cacbb",
   "metadata": {},
   "source": [
    "### matching code"
   ]
  },
  {
   "cell_type": "code",
   "execution_count": 8,
   "id": "363e68ea",
   "metadata": {},
   "outputs": [],
   "source": [
    "# given two networks net0, net1 which each output a feature map of shape NxCxWxH\n",
    "# this will reshape both outputs to (N*W*H)xC\n",
    "# and then compute a CxC correlation matrix between the outputs of the two networks\n",
    "def run_corr_matrix(net0, net1, epochs=1, norm=True, loader=train_aug_loader):\n",
    "    n = epochs*len(loader)\n",
    "    mean0 = mean1 = std0 = std1 = None\n",
    "    with torch.no_grad():\n",
    "        net0.eval()\n",
    "        net1.eval()\n",
    "        for _ in range(epochs):\n",
    "            for i, (images, _) in enumerate(tqdm(loader)):\n",
    "                img_t = images.float().cuda()\n",
    "                out0 = net0(img_t)\n",
    "                out0 = out0.reshape(out0.shape[0], out0.shape[1], -1).permute(0, 2, 1)\n",
    "                out0 = out0.reshape(-1, out0.shape[2]).double()\n",
    "\n",
    "                out1 = net1(img_t)\n",
    "                out1 = out1.reshape(out1.shape[0], out1.shape[1], -1).permute(0, 2, 1)\n",
    "                out1 = out1.reshape(-1, out1.shape[2]).double()\n",
    "\n",
    "                mean0_b = out0.mean(dim=0)\n",
    "                mean1_b = out1.mean(dim=0)\n",
    "                std0_b = out0.std(dim=0)\n",
    "                std1_b = out1.std(dim=0)\n",
    "                outer_b = (out0.T @ out1) / out0.shape[0]\n",
    "\n",
    "                if i == 0:\n",
    "                    mean0 = torch.zeros_like(mean0_b)\n",
    "                    mean1 = torch.zeros_like(mean1_b)\n",
    "                    std0 = torch.zeros_like(std0_b)\n",
    "                    std1 = torch.zeros_like(std1_b)\n",
    "                    outer = torch.zeros_like(outer_b)\n",
    "                mean0 += mean0_b / n\n",
    "                mean1 += mean1_b / n\n",
    "                std0 += std0_b / n\n",
    "                std1 += std1_b / n\n",
    "                outer += outer_b / n\n",
    "\n",
    "    cov = outer - torch.outer(mean0, mean1)\n",
    "    if norm:\n",
    "        corr = cov / (torch.outer(std0, std1) + 1e-4)\n",
    "        return corr\n",
    "    else:\n",
    "        return cov"
   ]
  },
  {
   "cell_type": "code",
   "execution_count": 27,
   "id": "1f9ef263",
   "metadata": {},
   "outputs": [],
   "source": [
    "def compute_perm_map(corr_mtx):\n",
    "    # sort the (i, j) channel pairs by correlation\n",
    "    nchan = corr_mtx.shape[0]\n",
    "    triples = [(i, j, corr_mtx[i, j].item()) for i in range(nchan) for j in range(nchan)]\n",
    "    triples = sorted(triples, key=lambda p: -p[2])\n",
    "    # greedily find a matching\n",
    "    perm_d = {}\n",
    "    for i, j, c in triples:\n",
    "        if not (i in perm_d.keys() or j in perm_d.values()):\n",
    "            perm_d[i] = j\n",
    "    perm_map = torch.tensor([perm_d[i] for i in range(nchan)])\n",
    "\n",
    "    # qual_map will be a permutation of the indices in the order\n",
    "    # of the quality / degree of correlation between the neurons found in the permutation.\n",
    "    # this just for visualization purposes.\n",
    "    qual_l = [corr_mtx[i, perm_map[i]].item() for i in range(nchan)]\n",
    "    qual_map = torch.tensor(sorted(range(nchan), key=lambda i: -qual_l[i]))\n",
    "\n",
    "    return perm_map, qual_map\n",
    "\n",
    "def get_layer_perm1(corr_mtx, method='max_weight', vizz=False):\n",
    "    if method == 'greedy':\n",
    "        perm_map, qual_map = compute_perm_map(corr_mtx)\n",
    "        if vizz:\n",
    "            corr_mtx_viz = (corr_mtx[qual_map].T[perm_map[qual_map]]).T\n",
    "            viz(corr_mtx_viz)\n",
    "    elif method == 'max_weight':\n",
    "        corr_mtx_a = corr_mtx.cpu().numpy()\n",
    "        row_ind, col_ind = scipy.optimize.linear_sum_assignment(corr_mtx_a, maximize=True)\n",
    "        assert (row_ind == np.arange(len(corr_mtx_a))).all()\n",
    "        perm_map = torch.tensor(col_ind).long()\n",
    "        perm_map = torch.eye(corr_mtx.shape[0], device=corr_mtx.device)[perm_map]\n",
    "    else:\n",
    "        raise Exception('Unknown method: %s' % method)\n",
    "        \n",
    "    return perm_map\n",
    "\n",
    "# returns the channel-permutation to make layer1's activations most closely\n",
    "# match layer0's.\n",
    "def get_layer_perm(net0, net1, method='max_weight', vizz=False):\n",
    "    corr_mtx = run_corr_matrix(net0, net1)\n",
    "    return get_layer_perm1(corr_mtx, method, vizz)"
   ]
  },
  {
   "cell_type": "code",
   "execution_count": 25,
   "id": "f1aae9be",
   "metadata": {},
   "outputs": [],
   "source": [
    "# modifies the weight matrices of a convolution and batchnorm\n",
    "# layer given a permutation of the output channels\n",
    "def permute_output(perm_map, conv, bn):\n",
    "    pre_weights = [\n",
    "        conv.weight,\n",
    "        bn.weight,\n",
    "        bn.bias,\n",
    "        bn.running_mean,\n",
    "        bn.running_var,\n",
    "    ]\n",
    "    for w in pre_weights:\n",
    "        if len(w.shape) == 4:\n",
    "            transform = torch.einsum('ab,bcde->acde', perm_map, w)\n",
    "        elif len(w.shape) == 2:\n",
    "            transform = perm_map @ w\n",
    "        else:\n",
    "            transform = w @ perm_map.t()\n",
    "#         assert torch.allclose(w[perm_map.argmax(-1)], transform)\n",
    "        w.data = transform\n",
    "#         w.data = w[perm_map]\n",
    "\n",
    "# modifies the weight matrix of a convolution layer for a given\n",
    "# permutation of the input channels\n",
    "def permute_input(perm_map, after_convs):\n",
    "    if not isinstance(after_convs, list):\n",
    "        after_convs = [after_convs]\n",
    "    post_weights = [c.weight for c in after_convs]\n",
    "    for w in post_weights:\n",
    "        if len(w.shape) == 4:\n",
    "            transform = torch.einsum('abcd,be->aecd', w, perm_map.t())\n",
    "        elif len(w.shape) == 2:\n",
    "            transform = w @ perm_map.t()\n",
    "    #     assert torch.allclose(w[:, perm_map.argmax(-1)], transform)\n",
    "        w.data = transform\n",
    "#         w.data = w[:, perm_map, :, :]\n",
    "\n"
   ]
  },
  {
   "cell_type": "markdown",
   "id": "09c8b84a",
   "metadata": {},
   "source": [
    "# Find neuron-permutation for each layer"
   ]
  },
  {
   "cell_type": "code",
   "execution_count": 47,
   "id": "c0db278e",
   "metadata": {
    "scrolled": true
   },
   "outputs": [
    {
     "data": {
      "text/plain": [
       "(9509, 9532)"
      ]
     },
     "execution_count": 47,
     "metadata": {},
     "output_type": "execute_result"
    }
   ],
   "source": [
    "model0 = resnet20(w=4).cuda()\n",
    "model1 = resnet20(w=4).cuda()\n",
    "load_model(model0, 'resnet20x4_v1')\n",
    "load_model(model1, 'resnet20x4_v2')\n",
    "\n",
    "evaluate(model0), evaluate(model1)"
   ]
  },
  {
   "cell_type": "markdown",
   "id": "fbb660be",
   "metadata": {},
   "source": [
    "## residual streams"
   ]
  },
  {
   "cell_type": "code",
   "execution_count": 48,
   "id": "72842551",
   "metadata": {},
   "outputs": [
    {
     "name": "stderr",
     "output_type": "stream",
     "text": [
      "100%|███████████████████████████████████████████████| 100/100 [00:06<00:00, 15.61it/s]\n"
     ]
    }
   ],
   "source": [
    "class Subnet(nn.Module):\n",
    "    def __init__(self, model):\n",
    "        super().__init__()\n",
    "        self.model = model\n",
    "    def forward(self, x):\n",
    "        self = self.model\n",
    "        x = F.relu(self.bn1(self.conv1(x)))\n",
    "        x = self.layer1(x)\n",
    "        return x\n",
    "# corr = run_corr_matrix(Subnet(model0), Subnet(model1))\n",
    "# perm_map1 = get_layer_perm1(corr)\n",
    "perm_map = get_layer_perm(Subnet(model0), Subnet(model1))\n",
    "permute_output(perm_map, model1.conv1, model1.bn1)\n",
    "permute_output(perm_map, model1.layer1[0].conv2, model1.layer1[0].bn2)\n",
    "permute_output(perm_map, model1.layer1[1].conv2, model1.layer1[1].bn2)\n",
    "permute_output(perm_map, model1.layer1[2].conv2, model1.layer1[2].bn2)\n",
    "permute_input(perm_map, [model1.layer1[0].conv1, model1.layer1[1].conv1, model1.layer1[2].conv1])\n",
    "permute_input(perm_map, [model1.layer2[0].conv1, model1.layer2[0].shortcut[0]])"
   ]
  },
  {
   "cell_type": "code",
   "execution_count": 49,
   "id": "a5c0e50a",
   "metadata": {},
   "outputs": [
    {
     "name": "stderr",
     "output_type": "stream",
     "text": [
      "100%|███████████████████████████████████████████████| 100/100 [00:07<00:00, 12.52it/s]\n"
     ]
    }
   ],
   "source": [
    "class Subnet(nn.Module):\n",
    "    def __init__(self, model):\n",
    "        super().__init__()\n",
    "        self.model = model\n",
    "    def forward(self, x):\n",
    "        self = self.model\n",
    "        x = F.relu(self.bn1(self.conv1(x)))\n",
    "        x = self.layer1(x)\n",
    "        x = self.layer2(x)\n",
    "        return x\n",
    "\n",
    "perm_map = get_layer_perm(Subnet(model0), Subnet(model1))\n",
    "permute_output(perm_map, model1.layer2[0].conv2, model1.layer2[0].bn2)\n",
    "permute_output(perm_map, model1.layer2[0].shortcut[0], model1.layer2[0].shortcut[1])\n",
    "permute_output(perm_map, model1.layer2[1].conv2, model1.layer2[1].bn2)\n",
    "permute_output(perm_map, model1.layer2[2].conv2, model1.layer2[2].bn2)\n",
    "\n",
    "permute_input(perm_map, [model1.layer2[1].conv1, model1.layer2[2].conv1])\n",
    "permute_input(perm_map, [model1.layer3[0].conv1, model1.layer3[0].shortcut[0]])"
   ]
  },
  {
   "cell_type": "code",
   "execution_count": 50,
   "id": "a2b84c3d",
   "metadata": {},
   "outputs": [
    {
     "name": "stderr",
     "output_type": "stream",
     "text": [
      "100%|███████████████████████████████████████████████| 100/100 [00:09<00:00, 10.47it/s]\n"
     ]
    }
   ],
   "source": [
    "class Subnet(nn.Module):\n",
    "    def __init__(self, model):\n",
    "        super().__init__()\n",
    "        self.model = model\n",
    "    def forward(self, x):\n",
    "        self = self.model\n",
    "        x = F.relu(self.bn1(self.conv1(x)))\n",
    "        x = self.layer1(x)\n",
    "        x = self.layer2(x)\n",
    "        x = self.layer3(x)\n",
    "        return x\n",
    "\n",
    "perm_map = get_layer_perm(Subnet(model0), Subnet(model1))\n",
    "permute_output(perm_map, model1.layer3[0].conv2, model1.layer3[0].bn2)\n",
    "permute_output(perm_map, model1.layer3[0].shortcut[0], model1.layer3[0].shortcut[1])\n",
    "permute_output(perm_map, model1.layer3[1].conv2, model1.layer3[1].bn2)\n",
    "permute_output(perm_map, model1.layer3[2].conv2, model1.layer3[2].bn2)\n",
    "\n",
    "permute_input(perm_map, [model1.layer3[1].conv1, model1.layer3[2].conv1])\n",
    "model1.linear.weight.data = model1.linear.weight @ perm_map.t()# [:, perm_map]\n",
    "# w @ perm_map.t()"
   ]
  },
  {
   "cell_type": "code",
   "execution_count": 51,
   "id": "7d86adce",
   "metadata": {},
   "outputs": [
    {
     "data": {
      "text/plain": [
       "(torch.Size([256, 256]), torch.Size([10, 256]))"
      ]
     },
     "execution_count": 51,
     "metadata": {},
     "output_type": "execute_result"
    }
   ],
   "source": [
    "perm_map.shape, model1.linear.weight.shape"
   ]
  },
  {
   "cell_type": "markdown",
   "id": "4e91d8e5",
   "metadata": {},
   "source": [
    "## blocks"
   ]
  },
  {
   "cell_type": "code",
   "execution_count": 52,
   "id": "ce5193f8",
   "metadata": {},
   "outputs": [],
   "source": [
    "class Subnet(nn.Module):\n",
    "    def __init__(self, model, nb=9):\n",
    "        super().__init__()\n",
    "        self.model = model\n",
    "        self.blocks = []\n",
    "        self.blocks += list(model.layer1)\n",
    "        self.blocks += list(model.layer2)\n",
    "        self.blocks += list(model.layer3)\n",
    "        self.blocks = nn.Sequential(*self.blocks)\n",
    "        self.bn1 = model.bn1\n",
    "        self.conv1 = model.conv1\n",
    "        self.linear = model.linear\n",
    "        self.nb = nb\n",
    "        \n",
    "    def forward(self, x):\n",
    "        x = F.relu(self.bn1(self.conv1(x)))\n",
    "        x = self.blocks[:self.nb](x)\n",
    "        block = self.blocks[self.nb]\n",
    "        x = block.conv1(x)\n",
    "        x = block.bn1(x)\n",
    "        x = F.relu(x)\n",
    "        return x\n",
    "\n",
    "blocks1 = []\n",
    "blocks1 += list(model1.layer1)\n",
    "blocks1 += list(model1.layer2)\n",
    "blocks1 += list(model1.layer3)\n",
    "blocks1 = nn.Sequential(*blocks1)"
   ]
  },
  {
   "cell_type": "code",
   "execution_count": 53,
   "id": "be9c23ff",
   "metadata": {
    "scrolled": false
   },
   "outputs": [
    {
     "name": "stderr",
     "output_type": "stream",
     "text": [
      "100%|███████████████████████████████████████████████| 100/100 [00:04<00:00, 24.73it/s]\n",
      "100%|███████████████████████████████████████████████| 100/100 [00:04<00:00, 21.37it/s]\n",
      "100%|███████████████████████████████████████████████| 100/100 [00:05<00:00, 17.24it/s]\n",
      "100%|███████████████████████████████████████████████| 100/100 [00:06<00:00, 15.64it/s]\n",
      "100%|███████████████████████████████████████████████| 100/100 [00:07<00:00, 13.83it/s]\n",
      "100%|███████████████████████████████████████████████| 100/100 [00:08<00:00, 12.43it/s]\n",
      "100%|███████████████████████████████████████████████| 100/100 [00:08<00:00, 11.50it/s]\n",
      "100%|███████████████████████████████████████████████| 100/100 [00:08<00:00, 11.24it/s]\n",
      "100%|███████████████████████████████████████████████| 100/100 [00:09<00:00, 10.75it/s]\n"
     ]
    }
   ],
   "source": [
    "for nb in range(9):\n",
    "    perm_map = get_layer_perm(Subnet(model0, nb=nb), Subnet(model1, nb=nb))\n",
    "    block = blocks1[nb]\n",
    "    permute_output(perm_map, block.conv1, block.bn1)\n",
    "    permute_input(perm_map, [block.conv2])"
   ]
  },
  {
   "cell_type": "markdown",
   "id": "1d4b4d80",
   "metadata": {},
   "source": [
    "## done"
   ]
  },
  {
   "cell_type": "code",
   "execution_count": 54,
   "id": "2d062c02",
   "metadata": {},
   "outputs": [],
   "source": [
    "save_model(model1, 'resnet20x4_v2_perm1_copy')"
   ]
  },
  {
   "cell_type": "markdown",
   "id": "bc494077",
   "metadata": {},
   "source": [
    "## Evaluate the interpolated network"
   ]
  },
  {
   "cell_type": "code",
   "execution_count": 55,
   "id": "1a7ae6a7",
   "metadata": {},
   "outputs": [],
   "source": [
    "def mix_weights(model, alpha, key0, key1):\n",
    "    sd0 = torch.load('%s.pth.tar' % key0)\n",
    "    sd1 = torch.load('%s.pth.tar' % key1)\n",
    "    sd_alpha = {k: (1 - alpha) * sd0[k].cuda() + alpha * sd1[k].cuda()\n",
    "                for k in sd0.keys()}\n",
    "    model.load_state_dict(sd_alpha)\n",
    "\n",
    "# use the train loader with data augmentation as this gives better results\n",
    "def reset_bn_stats(model, epochs=1, loader=train_aug_loader):\n",
    "    # resetting stats to baseline first as below is necessary for stability\n",
    "    for m in model.modules():\n",
    "        if type(m) == nn.BatchNorm2d:\n",
    "            m.momentum = None # use simple average\n",
    "            m.reset_running_stats()\n",
    "    # run a single train epoch with augmentations to recalc stats\n",
    "    model.train()\n",
    "    for _ in range(epochs):\n",
    "        with torch.no_grad(), autocast():\n",
    "            for images, _ in loader:\n",
    "                output = model(images.cuda())"
   ]
  },
  {
   "cell_type": "code",
   "execution_count": 24,
   "id": "967b58af",
   "metadata": {
    "scrolled": true
   },
   "outputs": [
    {
     "name": "stdout",
     "output_type": "stream",
     "text": [
      "Pre-reset:\n",
      "Accuracy=14.89%, Loss=3.113\n",
      "Post-reset:\n",
      "Accuracy=91.47%, Loss=0.304\n"
     ]
    }
   ],
   "source": [
    "model_a = resnet20(w=4).cuda(0) # W_\\alpha\n",
    "mix_weights(model_a, 0.5, 'resnet20x4_v1', 'resnet20x4_v2_perm1')\n",
    "\n",
    "print('Pre-reset:')\n",
    "print('Accuracy=%.2f%%, Loss=%.3f' % (evaluate(model_a)/100, evaluate1(model_a)))\n",
    "\n",
    "reset_bn_stats(model_a)\n",
    "print('Post-reset:')\n",
    "print('Accuracy=%.2f%%, Loss=%.3f' % (evaluate(model_a)/100, evaluate1(model_a)))"
   ]
  },
  {
   "cell_type": "code",
   "execution_count": null,
   "id": "97fe8b3a",
   "metadata": {},
   "outputs": [],
   "source": []
  },
  {
   "cell_type": "markdown",
   "id": "ea88595d",
   "metadata": {},
   "source": [
    "# Find neuron-bipartitations for each layer"
   ]
  },
  {
   "cell_type": "code",
   "execution_count": 140,
   "id": "1b392e06",
   "metadata": {
    "scrolled": true
   },
   "outputs": [
    {
     "data": {
      "text/plain": [
       "(9509, 9532)"
      ]
     },
     "execution_count": 140,
     "metadata": {},
     "output_type": "execute_result"
    }
   ],
   "source": [
    "model0 = resnet20(w=4).cuda()\n",
    "model1 = resnet20(w=4).cuda()\n",
    "load_model(model0, 'resnet20x4_v1')\n",
    "load_model(model1, 'resnet20x4_v2')\n",
    "\n",
    "evaluate(model0), evaluate(model1)"
   ]
  },
  {
   "cell_type": "code",
   "execution_count": 141,
   "id": "2cff6425",
   "metadata": {},
   "outputs": [],
   "source": [
    "def get_bipartite_perm(corr, threshold=-torch.inf):\n",
    "    scores, idx = corr.max(0)\n",
    "    valid_elements = scores >= threshold\n",
    "    idx = torch.where(valid_elements, idx, corr.shape[0])\n",
    "    location_lookup = torch.eye(corr.shape[0]+1, corr.shape[0], device=corr.device)\n",
    "    matches = location_lookup[idx]\n",
    "    totals = matches.sum(0, keepdim=True)\n",
    "    matches = matches / (totals + 1)\n",
    "    return matches.t(), totals\n",
    "\n",
    "def get_layer_bipartite_transform(net0, net1, threshold=-torch.inf):\n",
    "    corr_mtx = run_corr_matrix(net0, net1)\n",
    "    return get_bipartite_perm(corr_mtx, threshold=threshold)"
   ]
  },
  {
   "cell_type": "code",
   "execution_count": 142,
   "id": "f749ba5e",
   "metadata": {},
   "outputs": [],
   "source": [
    "from collections import defaultdict\n",
    "module2io = defaultdict(lambda: dict())"
   ]
  },
  {
   "cell_type": "code",
   "execution_count": 143,
   "id": "1d0c0efa",
   "metadata": {},
   "outputs": [
    {
     "data": {
      "text/plain": [
       "odict_keys(['conv1.weight', 'bn1.weight', 'bn1.bias', 'bn1.running_mean', 'bn1.running_var', 'bn1.num_batches_tracked', 'layer1.0.conv1.weight', 'layer1.0.bn1.weight', 'layer1.0.bn1.bias', 'layer1.0.bn1.running_mean', 'layer1.0.bn1.running_var', 'layer1.0.bn1.num_batches_tracked', 'layer1.0.conv2.weight', 'layer1.0.bn2.weight', 'layer1.0.bn2.bias', 'layer1.0.bn2.running_mean', 'layer1.0.bn2.running_var', 'layer1.0.bn2.num_batches_tracked', 'layer1.1.conv1.weight', 'layer1.1.bn1.weight', 'layer1.1.bn1.bias', 'layer1.1.bn1.running_mean', 'layer1.1.bn1.running_var', 'layer1.1.bn1.num_batches_tracked', 'layer1.1.conv2.weight', 'layer1.1.bn2.weight', 'layer1.1.bn2.bias', 'layer1.1.bn2.running_mean', 'layer1.1.bn2.running_var', 'layer1.1.bn2.num_batches_tracked', 'layer1.2.conv1.weight', 'layer1.2.bn1.weight', 'layer1.2.bn1.bias', 'layer1.2.bn1.running_mean', 'layer1.2.bn1.running_var', 'layer1.2.bn1.num_batches_tracked', 'layer1.2.conv2.weight', 'layer1.2.bn2.weight', 'layer1.2.bn2.bias', 'layer1.2.bn2.running_mean', 'layer1.2.bn2.running_var', 'layer1.2.bn2.num_batches_tracked', 'layer2.0.conv1.weight', 'layer2.0.bn1.weight', 'layer2.0.bn1.bias', 'layer2.0.bn1.running_mean', 'layer2.0.bn1.running_var', 'layer2.0.bn1.num_batches_tracked', 'layer2.0.conv2.weight', 'layer2.0.bn2.weight', 'layer2.0.bn2.bias', 'layer2.0.bn2.running_mean', 'layer2.0.bn2.running_var', 'layer2.0.bn2.num_batches_tracked', 'layer2.0.shortcut.0.weight', 'layer2.0.shortcut.1.weight', 'layer2.0.shortcut.1.bias', 'layer2.0.shortcut.1.running_mean', 'layer2.0.shortcut.1.running_var', 'layer2.0.shortcut.1.num_batches_tracked', 'layer2.1.conv1.weight', 'layer2.1.bn1.weight', 'layer2.1.bn1.bias', 'layer2.1.bn1.running_mean', 'layer2.1.bn1.running_var', 'layer2.1.bn1.num_batches_tracked', 'layer2.1.conv2.weight', 'layer2.1.bn2.weight', 'layer2.1.bn2.bias', 'layer2.1.bn2.running_mean', 'layer2.1.bn2.running_var', 'layer2.1.bn2.num_batches_tracked', 'layer2.2.conv1.weight', 'layer2.2.bn1.weight', 'layer2.2.bn1.bias', 'layer2.2.bn1.running_mean', 'layer2.2.bn1.running_var', 'layer2.2.bn1.num_batches_tracked', 'layer2.2.conv2.weight', 'layer2.2.bn2.weight', 'layer2.2.bn2.bias', 'layer2.2.bn2.running_mean', 'layer2.2.bn2.running_var', 'layer2.2.bn2.num_batches_tracked', 'layer3.0.conv1.weight', 'layer3.0.bn1.weight', 'layer3.0.bn1.bias', 'layer3.0.bn1.running_mean', 'layer3.0.bn1.running_var', 'layer3.0.bn1.num_batches_tracked', 'layer3.0.conv2.weight', 'layer3.0.bn2.weight', 'layer3.0.bn2.bias', 'layer3.0.bn2.running_mean', 'layer3.0.bn2.running_var', 'layer3.0.bn2.num_batches_tracked', 'layer3.0.shortcut.0.weight', 'layer3.0.shortcut.1.weight', 'layer3.0.shortcut.1.bias', 'layer3.0.shortcut.1.running_mean', 'layer3.0.shortcut.1.running_var', 'layer3.0.shortcut.1.num_batches_tracked', 'layer3.1.conv1.weight', 'layer3.1.bn1.weight', 'layer3.1.bn1.bias', 'layer3.1.bn1.running_mean', 'layer3.1.bn1.running_var', 'layer3.1.bn1.num_batches_tracked', 'layer3.1.conv2.weight', 'layer3.1.bn2.weight', 'layer3.1.bn2.bias', 'layer3.1.bn2.running_mean', 'layer3.1.bn2.running_var', 'layer3.1.bn2.num_batches_tracked', 'layer3.2.conv1.weight', 'layer3.2.bn1.weight', 'layer3.2.bn1.bias', 'layer3.2.bn1.running_mean', 'layer3.2.bn1.running_var', 'layer3.2.bn1.num_batches_tracked', 'layer3.2.conv2.weight', 'layer3.2.bn2.weight', 'layer3.2.bn2.bias', 'layer3.2.bn2.running_mean', 'layer3.2.bn2.running_var', 'layer3.2.bn2.num_batches_tracked', 'linear.weight', 'linear.bias'])"
      ]
     },
     "execution_count": 143,
     "metadata": {},
     "output_type": "execute_result"
    }
   ],
   "source": [
    "model1.state_dict().keys()"
   ]
  },
  {
   "cell_type": "markdown",
   "id": "2bfb585d",
   "metadata": {},
   "source": [
    "## residual streams"
   ]
  },
  {
   "cell_type": "code",
   "execution_count": 144,
   "id": "82c77ac0",
   "metadata": {
    "scrolled": true
   },
   "outputs": [
    {
     "name": "stderr",
     "output_type": "stream",
     "text": [
      "100%|███████████████████████████████████████████████| 100/100 [00:06<00:00, 15.39it/s]\n"
     ]
    }
   ],
   "source": [
    "class Subnet(nn.Module):\n",
    "    def __init__(self, model):\n",
    "        super().__init__()\n",
    "        self.model = model\n",
    "    def forward(self, x):\n",
    "        self = self.model\n",
    "        x = F.relu(self.bn1(self.conv1(x)))\n",
    "        x = self.layer1(x)\n",
    "        return x\n",
    "# corr = run_corr_matrix(Subnet(model0), Subnet(model1))\n",
    "# perm_map1 = get_layer_perm1(corr)\n",
    "perm_map, collapse_totals = get_layer_bipartite_transform(Subnet(model0), Subnet(model1))\n",
    "permute_output(perm_map, model1.conv1, model1.bn1)\n",
    "permute_output(perm_map, model1.layer1[0].conv2, model1.layer1[0].bn2)\n",
    "permute_output(perm_map, model1.layer1[1].conv2, model1.layer1[1].bn2)\n",
    "permute_output(perm_map, model1.layer1[2].conv2, model1.layer1[2].bn2)\n",
    "permute_input(perm_map, [model1.layer1[0].conv1, model1.layer1[1].conv1, model1.layer1[2].conv1])\n",
    "permute_input(perm_map, [model1.layer2[0].conv1, model1.layer2[0].shortcut[0]])"
   ]
  },
  {
   "cell_type": "code",
   "execution_count": 145,
   "id": "8671446e",
   "metadata": {},
   "outputs": [],
   "source": [
    "module2io['conv1']['output'] = collapse_totals\n",
    "module2io['bn1']['output'] = collapse_totals\n",
    "module2io['layer1.0.conv2']['output'] = collapse_totals\n",
    "module2io['layer1.0.bn2']['output'] = collapse_totals\n",
    "module2io['layer1.1.conv2']['output'] = collapse_totals\n",
    "module2io['layer1.1.bn2']['output'] = collapse_totals\n",
    "module2io['layer1.2.conv2']['output'] = collapse_totals\n",
    "module2io['layer1.2.bn2']['output'] = collapse_totals\n",
    "\n",
    "module2io['layer1.0.conv1']['input'] = collapse_totals\n",
    "module2io['layer1.1.conv1']['input'] = collapse_totals\n",
    "module2io['layer1.2.conv1']['input'] = collapse_totals\n",
    "module2io['layer2.0.conv1']['input'] = collapse_totals\n",
    "module2io['layer2.0.shortcut.0']['input'] = collapse_totals"
   ]
  },
  {
   "cell_type": "code",
   "execution_count": 146,
   "id": "0ac05ca6",
   "metadata": {},
   "outputs": [
    {
     "data": {
      "text/plain": [
       "(torch.Size([1, 64]), torch.Size([64, 3, 3, 3]))"
      ]
     },
     "execution_count": 146,
     "metadata": {},
     "output_type": "execute_result"
    }
   ],
   "source": [
    "module2io['conv1']['output'].shape, model1.conv1.weight.shape"
   ]
  },
  {
   "cell_type": "code",
   "execution_count": 147,
   "id": "e08ce4ac",
   "metadata": {},
   "outputs": [
    {
     "data": {
      "text/plain": [
       "torch.Size([64, 64, 3, 3])"
      ]
     },
     "execution_count": 147,
     "metadata": {},
     "output_type": "execute_result"
    }
   ],
   "source": [
    "model1.layer1[0].conv1.weight.shape"
   ]
  },
  {
   "cell_type": "code",
   "execution_count": 148,
   "id": "9d919f4c",
   "metadata": {},
   "outputs": [
    {
     "name": "stderr",
     "output_type": "stream",
     "text": [
      "100%|███████████████████████████████████████████████| 100/100 [00:08<00:00, 12.40it/s]\n"
     ]
    }
   ],
   "source": [
    "class Subnet(nn.Module):\n",
    "    def __init__(self, model):\n",
    "        super().__init__()\n",
    "        self.model = model\n",
    "    def forward(self, x):\n",
    "        self = self.model\n",
    "        x = F.relu(self.bn1(self.conv1(x)))\n",
    "        x = self.layer1(x)\n",
    "        x = self.layer2(x)\n",
    "        return x\n",
    "\n",
    "perm_map, collapse_totals = get_layer_bipartite_transform(Subnet(model0), Subnet(model1))\n",
    "permute_output(perm_map, model1.layer2[0].conv2, model1.layer2[0].bn2)\n",
    "permute_output(perm_map, model1.layer2[0].shortcut[0], model1.layer2[0].shortcut[1])\n",
    "permute_output(perm_map, model1.layer2[1].conv2, model1.layer2[1].bn2)\n",
    "permute_output(perm_map, model1.layer2[2].conv2, model1.layer2[2].bn2)\n",
    "\n",
    "permute_input(perm_map, [model1.layer2[1].conv1, model1.layer2[2].conv1])\n",
    "permute_input(perm_map, [model1.layer3[0].conv1, model1.layer3[0].shortcut[0]])"
   ]
  },
  {
   "cell_type": "code",
   "execution_count": 149,
   "id": "069a85b7",
   "metadata": {},
   "outputs": [],
   "source": [
    "module2io['layer2.0.conv2']['output'] = collapse_totals\n",
    "module2io['layer2.0.bn2']['output'] = collapse_totals\n",
    "module2io['layer2.0.shortcut.0']['output'] = collapse_totals\n",
    "module2io['layer2.0.shortcut.1']['output'] = collapse_totals\n",
    "module2io['layer2.1.conv2']['output'] = collapse_totals\n",
    "module2io['layer2.1.bn2']['output'] = collapse_totals\n",
    "module2io['layer2.2.conv2']['output'] = collapse_totals\n",
    "module2io['layer2.2.bn2']['output'] = collapse_totals\n",
    "\n",
    "module2io['layer2.1.conv1']['input'] = collapse_totals\n",
    "module2io['layer2.2.conv1']['input'] = collapse_totals\n",
    "module2io['layer3.0.conv1']['input'] = collapse_totals\n",
    "module2io['layer3.0.shortcut.0']['input'] = collapse_totals"
   ]
  },
  {
   "cell_type": "code",
   "execution_count": 150,
   "id": "989adedd",
   "metadata": {},
   "outputs": [
    {
     "data": {
      "text/plain": [
       "tensor([[ 6.,  0.,  0.,  0.,  0.,  0.,  0.,  0.,  0.,  0.,  0.,  0.,  0.,  1.,\n",
       "          0.,  0.,  0.,  0.,  0.,  0.,  0.,  0.,  0.,  0.,  0.,  1.,  0.,  0.,\n",
       "          1.,  0.,  0.,  1.,  0.,  0.,  3.,  0.,  0.,  0.,  0.,  7.,  0.,  0.,\n",
       "          0.,  0.,  0.,  1.,  0.,  0.,  1.,  0.,  0.,  0.,  1.,  0.,  0.,  0.,\n",
       "         29.,  0.,  0.,  0.,  0.,  0.,  5.,  0.,  0.,  1.,  0.,  0.,  0.,  1.,\n",
       "          0.,  0.,  0.,  0.,  1.,  0.,  0.,  0.,  0.,  0.,  0.,  0.,  0.,  0.,\n",
       "          3.,  0.,  0.,  0.,  0.,  0.,  0.,  0., 42.,  0.,  0.,  0.,  0.,  0.,\n",
       "          0.,  2.,  8.,  0.,  0.,  0.,  0.,  0.,  0.,  0.,  0.,  0.,  2.,  0.,\n",
       "          1.,  2.,  0.,  1.,  5.,  0.,  0.,  1.,  0.,  0.,  0.,  0.,  0.,  0.,\n",
       "          1.,  0.]], device='cuda:0')"
      ]
     },
     "execution_count": 150,
     "metadata": {},
     "output_type": "execute_result"
    }
   ],
   "source": [
    "collapse_totals"
   ]
  },
  {
   "cell_type": "code",
   "execution_count": 151,
   "id": "db4b03e6",
   "metadata": {},
   "outputs": [
    {
     "name": "stderr",
     "output_type": "stream",
     "text": [
      "100%|███████████████████████████████████████████████| 100/100 [00:09<00:00, 10.45it/s]\n"
     ]
    }
   ],
   "source": [
    "class Subnet(nn.Module):\n",
    "    def __init__(self, model):\n",
    "        super().__init__()\n",
    "        self.model = model\n",
    "    def forward(self, x):\n",
    "        self = self.model\n",
    "        x = F.relu(self.bn1(self.conv1(x)))\n",
    "        x = self.layer1(x)\n",
    "        x = self.layer2(x)\n",
    "        x = self.layer3(x)\n",
    "        return x\n",
    "\n",
    "perm_map, collapse_totals = get_layer_bipartite_transform(Subnet(model0), Subnet(model1))\n",
    "permute_output(perm_map, model1.layer3[0].conv2, model1.layer3[0].bn2)\n",
    "permute_output(perm_map, model1.layer3[0].shortcut[0], model1.layer3[0].shortcut[1])\n",
    "permute_output(perm_map, model1.layer3[1].conv2, model1.layer3[1].bn2)\n",
    "permute_output(perm_map, model1.layer3[2].conv2, model1.layer3[2].bn2)\n",
    "\n",
    "permute_input(perm_map, [model1.layer3[1].conv1, model1.layer3[2].conv1])\n",
    "model1.linear.weight.data = model1.linear.weight @ perm_map.t()# [:, perm_map]\n",
    "# w @ perm_map.t()"
   ]
  },
  {
   "cell_type": "code",
   "execution_count": 152,
   "id": "548c8e42",
   "metadata": {},
   "outputs": [],
   "source": [
    "module2io['layer3.0.conv2']['output'] = collapse_totals\n",
    "module2io['layer3.0.bn2']['output'] = collapse_totals\n",
    "module2io['layer3.0.shortcut.0']['output'] = collapse_totals\n",
    "module2io['layer3.0.shortcut.1']['output'] = collapse_totals\n",
    "module2io['layer3.1.conv2']['output'] = collapse_totals\n",
    "module2io['layer3.1.bn2']['output'] = collapse_totals\n",
    "module2io['layer3.2.conv2']['output'] = collapse_totals\n",
    "module2io['layer3.2.bn2']['output'] = collapse_totals\n",
    "\n",
    "module2io['layer3.1.conv1']['input'] = collapse_totals\n",
    "module2io['layer3.2.conv1']['input'] = collapse_totals\n",
    "module2io['linear']['input'] = collapse_totals"
   ]
  },
  {
   "cell_type": "code",
   "execution_count": 153,
   "id": "1e5c59d1",
   "metadata": {},
   "outputs": [],
   "source": [
    "# perm_map.shape, model1.linear.weight.shape"
   ]
  },
  {
   "cell_type": "code",
   "execution_count": 154,
   "id": "8fcbb80f",
   "metadata": {},
   "outputs": [
    {
     "data": {
      "text/plain": [
       "tensor([[  0.,   0.,   0.,   0.,   0.,   0.,   1.,   0.,   0.,   0.,   0.,   0.,\n",
       "           0.,   0.,   0.,   0.,   0., 110.,   0.,   0.,   0.,   0.,   0.,   0.,\n",
       "           0.,   0.,   0.,   0.,   0.,   0.,   0.,   0.,   0.,   0.,   0.,   0.,\n",
       "           0.,   0.,   0.,   0.,   0.,   0.,   0.,   0.,   0.,   2.,   0.,   0.,\n",
       "           0.,  59.,   0.,   0.,   0.,   0.,   0.,   0.,   0.,   0.,   0.,   0.,\n",
       "           0.,   0.,   0.,   0.,   0.,   0.,   0.,   0.,   0.,   0.,   0.,   0.,\n",
       "           0.,   0.,   0.,   0.,   0.,   0.,   0.,   0.,   0.,   0.,   0.,   0.,\n",
       "           0.,   0.,   0.,   0.,   0.,   0.,   0.,   0.,   0.,   0.,  10.,   0.,\n",
       "           1.,   0.,   0.,   0.,   0.,  65.,   0.,   0.,   0.,   0.,   0.,   0.,\n",
       "           0.,   0.,   0.,   0.,   0.,   0.,   0.,   1.,   1.,   1.,   0.,   0.,\n",
       "           0.,   0.,   0.,   0.,   0.,   0.,   0.,   0.,   0.,   0.,   0.,   0.,\n",
       "           0.,   0.,   0.,   0.,   0.,   0.,   0.,   0.,   0.,   0.,   0.,   0.,\n",
       "           0.,   0.,   0.,   0.,   0.,   0.,   1.,   0.,   0.,   0.,   0.,   0.,\n",
       "           0.,   0.,   0.,   0.,   0.,   0.,   0.,   0.,   0.,   0.,   0.,   0.,\n",
       "           0.,   0.,   0.,   0.,   0.,   0.,   0.,   0.,   0.,   0.,   0.,   0.,\n",
       "           0.,   0.,   0.,   0.,   0.,   0.,   0.,   1.,   0.,   0.,   0.,   0.,\n",
       "           0.,   0.,   0.,   0.,   0.,   0.,   0.,   3.,   0.,   0.,   0.,   0.,\n",
       "           0.,   0.,   0.,   0.,   0.,   0.,   0.,   0.,   0.,   0.,   0.,   0.,\n",
       "           0.,   0.,   0.,   0.,   0.,   0.,   0.,   0.,   0.,   0.,   0.,   0.,\n",
       "           0.,   0.,   0.,   0.,   0.,   0.,   0.,   0.,   0.,   0.,   0.,   0.,\n",
       "           0.,   0.,   0.,   0.,   0.,   0.,   0.,   0.,   0.,   0.,   0.,   0.,\n",
       "           0.,   0.,   0.,   0.]], device='cuda:0')"
      ]
     },
     "execution_count": 154,
     "metadata": {},
     "output_type": "execute_result"
    }
   ],
   "source": [
    "collapse_totals"
   ]
  },
  {
   "cell_type": "markdown",
   "id": "ff8874b1",
   "metadata": {},
   "source": [
    "## blocks"
   ]
  },
  {
   "cell_type": "code",
   "execution_count": 155,
   "id": "2f5c3d87",
   "metadata": {},
   "outputs": [],
   "source": [
    "class Subnet(nn.Module):\n",
    "    def __init__(self, model, nb=9):\n",
    "        super().__init__()\n",
    "        self.model = model\n",
    "        self.blocks = []\n",
    "        self.blocks += list(model.layer1)\n",
    "        self.blocks += list(model.layer2)\n",
    "        self.blocks += list(model.layer3)\n",
    "        self.blocks = nn.Sequential(*self.blocks)\n",
    "        self.bn1 = model.bn1\n",
    "        self.conv1 = model.conv1\n",
    "        self.linear = model.linear\n",
    "        self.nb = nb\n",
    "        \n",
    "    def forward(self, x):\n",
    "        x = F.relu(self.bn1(self.conv1(x)))\n",
    "        x = self.blocks[:self.nb](x)\n",
    "        block = self.blocks[self.nb]\n",
    "        x = block.conv1(x)\n",
    "        x = block.bn1(x)\n",
    "        x = F.relu(x)\n",
    "        return x\n",
    "\n",
    "blocks1 = []\n",
    "blocks1 += list(model1.layer1)\n",
    "blocks1 += list(model1.layer2)\n",
    "blocks1 += list(model1.layer3)\n",
    "blocks1 = nn.Sequential(*blocks1)"
   ]
  },
  {
   "cell_type": "code",
   "execution_count": 156,
   "id": "115000b1",
   "metadata": {},
   "outputs": [],
   "source": [
    "block_idx2name = {\n",
    "    0: 'layer1.0',\n",
    "    1: 'layer1.1',\n",
    "    2: 'layer1.2',\n",
    "    3: 'layer2.0',\n",
    "    4: 'layer2.1',\n",
    "    5: 'layer2.2',\n",
    "    6: 'layer3.0',\n",
    "    7: 'layer3.1',\n",
    "    8: 'layer3.2'\n",
    "}"
   ]
  },
  {
   "cell_type": "code",
   "execution_count": 157,
   "id": "cea74566",
   "metadata": {
    "scrolled": false
   },
   "outputs": [
    {
     "name": "stderr",
     "output_type": "stream",
     "text": [
      "100%|███████████████████████████████████████████████| 100/100 [00:04<00:00, 24.88it/s]\n",
      "100%|███████████████████████████████████████████████| 100/100 [00:04<00:00, 20.56it/s]\n",
      "100%|███████████████████████████████████████████████| 100/100 [00:05<00:00, 16.85it/s]\n",
      "100%|███████████████████████████████████████████████| 100/100 [00:06<00:00, 15.61it/s]\n",
      "100%|███████████████████████████████████████████████| 100/100 [00:07<00:00, 13.80it/s]\n",
      "100%|███████████████████████████████████████████████| 100/100 [00:07<00:00, 12.80it/s]\n",
      "100%|███████████████████████████████████████████████| 100/100 [00:08<00:00, 11.89it/s]\n",
      "100%|███████████████████████████████████████████████| 100/100 [00:08<00:00, 11.14it/s]\n",
      "100%|███████████████████████████████████████████████| 100/100 [00:09<00:00, 10.47it/s]\n"
     ]
    }
   ],
   "source": [
    "for nb, (block_idx, layer_name) in zip(range(9), block_idx2name.items()):\n",
    "    perm_map, collapse_totals = get_layer_bipartite_transform(Subnet(model0, nb=nb), Subnet(model1, nb=nb))\n",
    "    block = blocks1[nb]\n",
    "    permute_output(perm_map, block.conv1, block.bn1)\n",
    "    permute_input(perm_map, [block.conv2])\n",
    "    \n",
    "    module2io[layer_name + '.conv1']['output'] = collapse_totals\n",
    "    module2io[layer_name + '.bn1']['output'] = collapse_totals\n",
    "    module2io[layer_name + '.conv2']['output'] = collapse_totals"
   ]
  },
  {
   "cell_type": "markdown",
   "id": "5ebacb2d",
   "metadata": {},
   "source": [
    "## done"
   ]
  },
  {
   "cell_type": "code",
   "execution_count": 158,
   "id": "65ae7a08",
   "metadata": {},
   "outputs": [],
   "source": [
    "save_model(model1, 'resnet20x4_v2_bipartite')"
   ]
  },
  {
   "cell_type": "markdown",
   "id": "27396b10",
   "metadata": {},
   "source": [
    "## Evaluate the interpolated network"
   ]
  },
  {
   "cell_type": "code",
   "execution_count": 159,
   "id": "2b65e480",
   "metadata": {},
   "outputs": [],
   "source": [
    "def strip_param_suffix(name):\n",
    "    return name.replace('.weight', '').replace('.bias', '')\n",
    "\n",
    "def combine_io_masks(io, param):\n",
    "    mask = torch.zeros_like(param, device=param.device)\n",
    "    try:\n",
    "        if 'output' in io:\n",
    "            mask[io['output'].view(-1) == 0] = 1.\n",
    "        if 'input' in io and len(mask.shape) > 1:\n",
    "            mask[:, io['input'].view(-1) == 0] = 1.\n",
    "    except:\n",
    "        pdb.set_trace()\n",
    "    return mask\n",
    "\n",
    "def mix_weights(model, alpha, key0, key1, module2io=None):\n",
    "    sd0 = torch.load('%s.pth.tar' % key0)\n",
    "    sd1 = torch.load('%s.pth.tar' % key1)\n",
    "    sd_alpha = {}\n",
    "    for k in sd0.keys():\n",
    "        param0 = sd0[k].cuda()\n",
    "        param1 = sd1[k].cuda()\n",
    "        sd_alpha[k] = (1 - alpha) * param0 + alpha * param1\n",
    "        if module2io is not None:\n",
    "            param_base = strip_param_suffix(k)\n",
    "#             pdb.set_trace()\n",
    "            mask = combine_io_masks(module2io[param_base], param1)\n",
    "            sd_alpha[k][mask == 1] = param0[mask == 1].to(sd_alpha[k].dtype)\n",
    "#     sd_alpha = {k: (1 - alpha) * sd0[k].cuda() + alpha * sd1[k].cuda()\n",
    "#                 for k in sd0.keys()}\n",
    "    model.load_state_dict(sd_alpha)\n",
    "\n",
    "# use the train loader with data augmentation as this gives better results\n",
    "def reset_bn_stats(model, epochs=1, loader=train_aug_loader):\n",
    "    # resetting stats to baseline first as below is necessary for stability\n",
    "    for m in model.modules():\n",
    "        if type(m) == nn.BatchNorm2d:\n",
    "            m.momentum = None # use simple average\n",
    "            m.reset_running_stats()\n",
    "    # run a single train epoch with augmentations to recalc stats\n",
    "    model.train()\n",
    "    for _ in range(epochs):\n",
    "        with torch.no_grad(), autocast():\n",
    "            for images, _ in loader:\n",
    "                output = model(images.cuda())"
   ]
  },
  {
   "cell_type": "code",
   "execution_count": 160,
   "id": "f6f716ba",
   "metadata": {
    "scrolled": false
   },
   "outputs": [
    {
     "name": "stdout",
     "output_type": "stream",
     "text": [
      "Pre-reset:\n",
      "Accuracy=28.68%, Loss=3.637\n",
      "Post-reset:\n",
      "Accuracy=94.50%, Loss=0.198\n"
     ]
    }
   ],
   "source": [
    "model_a = resnet20(w=4).cuda(0) # W_\\alpha\n",
    "mix_weights(model_a, 0.5, 'resnet20x4_v1', 'resnet20x4_v2_bipartite', module2io=module2io)\n",
    "\n",
    "print('Pre-reset:')\n",
    "print('Accuracy=%.2f%%, Loss=%.3f' % (evaluate(model_a)/100, evaluate1(model_a)))\n",
    "\n",
    "reset_bn_stats(model_a)\n",
    "print('Post-reset:')\n",
    "print('Accuracy=%.2f%%, Loss=%.3f' % (evaluate(model_a)/100, evaluate1(model_a)))"
   ]
  },
  {
   "cell_type": "code",
   "execution_count": 56,
   "id": "aabfc740",
   "metadata": {},
   "outputs": [
    {
     "name": "stdout",
     "output_type": "stream",
     "text": [
      "Pre-reset:\n",
      "Accuracy=15.55%, Loss=3.137\n",
      "Post-reset:\n",
      "Accuracy=91.38%, Loss=0.306\n"
     ]
    }
   ],
   "source": [
    "model_a = resnet20(w=4).cuda(0) # W_\\alpha\n",
    "mix_weights(model_a, 0.5, 'resnet20x4_v1', 'resnet20x4_v2_perm1_copy')\n",
    "\n",
    "print('Pre-reset:')\n",
    "print('Accuracy=%.2f%%, Loss=%.3f' % (evaluate(model_a)/100, evaluate1(model_a)))\n",
    "\n",
    "reset_bn_stats(model_a)\n",
    "print('Post-reset:')\n",
    "print('Accuracy=%.2f%%, Loss=%.3f' % (evaluate(model_a)/100, evaluate1(model_a)))"
   ]
  },
  {
   "cell_type": "code",
   "execution_count": null,
   "id": "832473d8",
   "metadata": {},
   "outputs": [],
   "source": []
  },
  {
   "cell_type": "code",
   "execution_count": null,
   "id": "ba6a524a",
   "metadata": {},
   "outputs": [],
   "source": []
  },
  {
   "cell_type": "code",
   "execution_count": null,
   "id": "46e2370f",
   "metadata": {},
   "outputs": [],
   "source": []
  },
  {
   "cell_type": "code",
   "execution_count": null,
   "id": "59c2cb42",
   "metadata": {},
   "outputs": [],
   "source": []
  }
 ],
 "metadata": {
  "kernelspec": {
   "display_name": "Python 3",
   "language": "python",
   "name": "python3"
  },
  "language_info": {
   "codemirror_mode": {
    "name": "ipython",
    "version": 3
   },
   "file_extension": ".py",
   "mimetype": "text/x-python",
   "name": "python",
   "nbconvert_exporter": "python",
   "pygments_lexer": "ipython3",
   "version": "3.7.13"
  }
 },
 "nbformat": 4,
 "nbformat_minor": 5
}
