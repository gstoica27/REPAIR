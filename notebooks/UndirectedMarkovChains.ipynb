{
 "cells": [
  {
   "cell_type": "code",
   "execution_count": 1,
   "id": "e497cc3f",
   "metadata": {},
   "outputs": [],
   "source": [
    "AB2cost = {\n",
    "    (0, 0): 5,\n",
    "    (0, 1): 10,\n",
    "    (1, 0): 15,\n",
    "    (1, 1): 20\n",
    "}\n",
    "\n",
    "BC2cost = {\n",
    "    (0, 0): 30,\n",
    "    (0, 1): 40,\n",
    "    (1, 0): 50,\n",
    "    (1, 1): 60\n",
    "}\n",
    "\n",
    "CD2cost = {\n",
    "    (0, 0): 25,\n",
    "    (0, 1): 50,\n",
    "    (1, 0): 75,\n",
    "    (1, 1): 100\n",
    "}\n",
    "\n",
    "DA2cost = {\n",
    "    (0, 0): 150,\n",
    "    (0, 1): 200,\n",
    "    (1, 0): 250,\n",
    "    (1, 1): 300\n",
    "}"
   ]
  },
  {
   "cell_type": "code",
   "execution_count": 2,
   "id": "613c54a3",
   "metadata": {},
   "outputs": [],
   "source": [
    "def parse_chain(a, b, c, d):\n",
    "    ab = AB2cost[(a,b)]\n",
    "    bc = BC2cost[(b,c)]\n",
    "    cd = CD2cost[(c,d)]\n",
    "    da = DA2cost[(d,a)]\n",
    "    return ab * bc * cd * da\n",
    "        "
   ]
  },
  {
   "cell_type": "code",
   "execution_count": 4,
   "id": "bff63331",
   "metadata": {},
   "outputs": [],
   "source": [
    "ls = [\n",
    "    [0,0,0,0],\n",
    "    [0,0,0,1],\n",
    "    [0,0,1,0],\n",
    "    [0,0,1,1],\n",
    "    [0,1,0,0],\n",
    "    [0,1,0,1],\n",
    "    [0,1,1,0],\n",
    "    [0,1,1,1],\n",
    "    [1,0,0,0],\n",
    "    [1,0,0,1],\n",
    "    [1,0,1,0],\n",
    "    [1,0,1,1],\n",
    "    [1,1,0,0],\n",
    "    [1,1,1,0],\n",
    "    [1,1,1,1]\n",
    "]"
   ]
  },
  {
   "cell_type": "code",
   "execution_count": 5,
   "id": "f237374d",
   "metadata": {},
   "outputs": [
    {
     "name": "stdout",
     "output_type": "stream",
     "text": [
      "[0, 0, 0, 0]: 562500\n",
      "[0, 0, 0, 1]: 1875000\n",
      "[0, 0, 1, 0]: 2250000\n",
      "[0, 0, 1, 1]: 5000000\n",
      "[0, 1, 0, 0]: 1875000\n",
      "[0, 1, 0, 1]: 6250000\n",
      "[0, 1, 1, 0]: 6750000\n",
      "[0, 1, 1, 1]: 15000000\n",
      "[1, 0, 0, 0]: 2250000\n",
      "[1, 0, 0, 1]: 6750000\n",
      "[1, 0, 1, 0]: 9000000\n",
      "[1, 0, 1, 1]: 18000000\n",
      "[1, 1, 0, 0]: 5000000\n",
      "[1, 1, 1, 0]: 18000000\n",
      "[1, 1, 1, 1]: 36000000\n"
     ]
    }
   ],
   "source": [
    "for l in ls:\n",
    "    print(f'{l}: {parse_chain(*l)}')"
   ]
  },
  {
   "cell_type": "code",
   "execution_count": 12,
   "id": "25743f4e",
   "metadata": {},
   "outputs": [],
   "source": [
    "d = {}\n",
    "for l in ls:\n",
    "    d[', '.join(str(x) for x in l)] = parse_chain(*l)"
   ]
  },
  {
   "cell_type": "code",
   "execution_count": 13,
   "id": "807d290f",
   "metadata": {},
   "outputs": [
    {
     "data": {
      "text/plain": [
       "{'0, 0, 0, 0': 562500,\n",
       " '0, 0, 0, 1': 1875000,\n",
       " '0, 0, 1, 0': 2250000,\n",
       " '0, 0, 1, 1': 5000000,\n",
       " '0, 1, 0, 0': 1875000,\n",
       " '0, 1, 0, 1': 6250000,\n",
       " '0, 1, 1, 0': 6750000,\n",
       " '0, 1, 1, 1': 15000000,\n",
       " '1, 0, 0, 0': 2250000,\n",
       " '1, 0, 0, 1': 6750000,\n",
       " '1, 0, 1, 0': 9000000,\n",
       " '1, 0, 1, 1': 18000000,\n",
       " '1, 1, 0, 0': 5000000,\n",
       " '1, 1, 1, 0': 18000000,\n",
       " '1, 1, 1, 1': 36000000}"
      ]
     },
     "execution_count": 13,
     "metadata": {},
     "output_type": "execute_result"
    }
   ],
   "source": [
    "d"
   ]
  },
  {
   "cell_type": "code",
   "execution_count": 15,
   "id": "5be1839b",
   "metadata": {},
   "outputs": [
    {
     "name": "stdout",
     "output_type": "stream",
     "text": [
      "0, 0, 0, 0: 0.0041802136553646075\n",
      "0, 0, 0, 1: 0.013934045517882025\n",
      "0, 0, 1, 0: 0.01672085462145843\n",
      "0, 0, 1, 1: 0.03715745471435207\n",
      "0, 1, 0, 0: 0.013934045517882025\n",
      "0, 1, 0, 1: 0.046446818392940084\n",
      "0, 1, 1, 0: 0.05016256386437529\n",
      "0, 1, 1, 1: 0.1114723641430562\n",
      "1, 0, 0, 0: 0.01672085462145843\n",
      "1, 0, 0, 1: 0.05016256386437529\n",
      "1, 0, 1, 0: 0.06688341848583372\n",
      "1, 0, 1, 1: 0.13376683697166744\n",
      "1, 1, 0, 0: 0.03715745471435207\n",
      "1, 1, 1, 0: 0.13376683697166744\n",
      "1, 1, 1, 1: 0.2675336739433349\n"
     ]
    }
   ],
   "source": [
    "total = sum(d.values())\n",
    "for k, v in d.items():\n",
    "    print(f'{k}: {v/total}')"
   ]
  },
  {
   "cell_type": "code",
   "execution_count": null,
   "id": "57c3bc70",
   "metadata": {},
   "outputs": [],
   "source": []
  }
 ],
 "metadata": {
  "kernelspec": {
   "display_name": "Python 3",
   "language": "python",
   "name": "python3"
  },
  "language_info": {
   "codemirror_mode": {
    "name": "ipython",
    "version": 3
   },
   "file_extension": ".py",
   "mimetype": "text/x-python",
   "name": "python",
   "nbconvert_exporter": "python",
   "pygments_lexer": "ipython3",
   "version": "3.7.13"
  }
 },
 "nbformat": 4,
 "nbformat_minor": 5
}
